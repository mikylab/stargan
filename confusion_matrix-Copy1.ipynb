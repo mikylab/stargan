{
 "cells": [
  {
   "cell_type": "code",
   "execution_count": 1,
   "metadata": {},
   "outputs": [],
   "source": [
    "import numpy as np\n",
    "import pandas as pd\n",
    "import seaborn as sns\n",
    "import matplotlib.pyplot as plt\n",
    "from sklearn.metrics import confusion_matrix\n"
   ]
  },
  {
   "cell_type": "code",
   "execution_count": 2,
   "metadata": {},
   "outputs": [],
   "source": [
    "def normalizeData(dataMatrix):\n",
    "    distance_mean = np.mean(dataMatrix)\n",
    "    distance_sd = np.std(dataMatrix)\n",
    "    mean_zero = (dataMatrix-distance_mean)/distance_sd\n",
    "    return mean_zero\n"
   ]
  },
  {
   "cell_type": "code",
   "execution_count": 34,
   "metadata": {},
   "outputs": [
    {
     "data": {
      "text/html": [
       "<div>\n",
       "<style scoped>\n",
       "    .dataframe tbody tr th:only-of-type {\n",
       "        vertical-align: middle;\n",
       "    }\n",
       "\n",
       "    .dataframe tbody tr th {\n",
       "        vertical-align: top;\n",
       "    }\n",
       "\n",
       "    .dataframe thead th {\n",
       "        text-align: right;\n",
       "    }\n",
       "</style>\n",
       "<table border=\"1\" class=\"dataframe\">\n",
       "  <thead>\n",
       "    <tr style=\"text-align: right;\">\n",
       "      <th></th>\n",
       "      <th>0</th>\n",
       "      <th>1869.6516</th>\n",
       "      <th>5428.1587</th>\n",
       "      <th>4904.9517</th>\n",
       "    </tr>\n",
       "  </thead>\n",
       "  <tbody>\n",
       "    <tr>\n",
       "      <th>0</th>\n",
       "      <td>0</td>\n",
       "      <td>1996.2270</td>\n",
       "      <td>5741.0740</td>\n",
       "      <td>8048.9775</td>\n",
       "    </tr>\n",
       "    <tr>\n",
       "      <th>1</th>\n",
       "      <td>0</td>\n",
       "      <td>1989.5942</td>\n",
       "      <td>6659.8447</td>\n",
       "      <td>11012.7820</td>\n",
       "    </tr>\n",
       "    <tr>\n",
       "      <th>2</th>\n",
       "      <td>0</td>\n",
       "      <td>2045.8169</td>\n",
       "      <td>2191.9546</td>\n",
       "      <td>4882.1357</td>\n",
       "    </tr>\n",
       "    <tr>\n",
       "      <th>3</th>\n",
       "      <td>0</td>\n",
       "      <td>1617.7184</td>\n",
       "      <td>4134.9775</td>\n",
       "      <td>9551.4070</td>\n",
       "    </tr>\n",
       "    <tr>\n",
       "      <th>4</th>\n",
       "      <td>0</td>\n",
       "      <td>1623.6580</td>\n",
       "      <td>10891.0340</td>\n",
       "      <td>5403.3374</td>\n",
       "    </tr>\n",
       "    <tr>\n",
       "      <th>...</th>\n",
       "      <td>...</td>\n",
       "      <td>...</td>\n",
       "      <td>...</td>\n",
       "      <td>...</td>\n",
       "    </tr>\n",
       "    <tr>\n",
       "      <th>50604</th>\n",
       "      <td>2</td>\n",
       "      <td>10570.0350</td>\n",
       "      <td>12240.0720</td>\n",
       "      <td>1787.8308</td>\n",
       "    </tr>\n",
       "    <tr>\n",
       "      <th>50605</th>\n",
       "      <td>2</td>\n",
       "      <td>11387.9960</td>\n",
       "      <td>6985.1770</td>\n",
       "      <td>2465.2969</td>\n",
       "    </tr>\n",
       "    <tr>\n",
       "      <th>50606</th>\n",
       "      <td>2</td>\n",
       "      <td>3236.8364</td>\n",
       "      <td>4781.7256</td>\n",
       "      <td>2924.0261</td>\n",
       "    </tr>\n",
       "    <tr>\n",
       "      <th>50607</th>\n",
       "      <td>2</td>\n",
       "      <td>9142.7250</td>\n",
       "      <td>13314.5640</td>\n",
       "      <td>2727.7766</td>\n",
       "    </tr>\n",
       "    <tr>\n",
       "      <th>50608</th>\n",
       "      <td>2</td>\n",
       "      <td>6712.8086</td>\n",
       "      <td>7707.7686</td>\n",
       "      <td>1744.6813</td>\n",
       "    </tr>\n",
       "  </tbody>\n",
       "</table>\n",
       "<p>50609 rows × 4 columns</p>\n",
       "</div>"
      ],
      "text/plain": [
       "       0   1869.6516   5428.1587   4904.9517\n",
       "0      0   1996.2270   5741.0740   8048.9775\n",
       "1      0   1989.5942   6659.8447  11012.7820\n",
       "2      0   2045.8169   2191.9546   4882.1357\n",
       "3      0   1617.7184   4134.9775   9551.4070\n",
       "4      0   1623.6580  10891.0340   5403.3374\n",
       "...   ..         ...         ...         ...\n",
       "50604  2  10570.0350  12240.0720   1787.8308\n",
       "50605  2  11387.9960   6985.1770   2465.2969\n",
       "50606  2   3236.8364   4781.7256   2924.0261\n",
       "50607  2   9142.7250  13314.5640   2727.7766\n",
       "50608  2   6712.8086   7707.7686   1744.6813\n",
       "\n",
       "[50609 rows x 4 columns]"
      ]
     },
     "execution_count": 34,
     "metadata": {},
     "output_type": "execute_result"
    }
   ],
   "source": [
    "\n",
    "# testDistances = pd.read_csv(\"/home/mikylab/github/stargan/experiments/stargan_identity.bel01/test_distances400.csv\")\n",
    "\n",
    "# testArray = np.asarray(testDistances)\n",
    "\n",
    "# Y_test = testArray[:, 0]\n",
    "# predicted_test = np.load('/home/mikylab/github/stargan/experiments/stargan_identity.bel01/svmRETEST400.npy')\n",
    "\n",
    "\n",
    "# ''' Calculate Correct Test Predictions'''\n",
    "# class_predictions_test = np.argmax(predicted_test, axis=1)\n",
    "\n",
    "# correct_test = np.sum(Y_test == class_predictions_test)\n",
    "\n",
    "# correct_test/class_predictions_test.shape[0]"
   ]
  },
  {
   "cell_type": "code",
   "execution_count": 36,
   "metadata": {},
   "outputs": [],
   "source": [
    "trainDistances = pd.read_csv('experiments/CYTO_060624/CYTO_train_dist061124.csv', header = None)\n",
    "testDistances = pd.read_csv('experiments/CYTO_060624/CYTO_test_dist061124.csv', header = None)"
   ]
  },
  {
   "cell_type": "code",
   "execution_count": null,
   "metadata": {},
   "outputs": [],
   "source": []
  },
  {
   "cell_type": "code",
   "execution_count": 37,
   "metadata": {},
   "outputs": [],
   "source": [
    "trainArray = np.asarray(trainDistances)\n",
    "trainMatrix = trainArray[:, 1:]\n",
    "\n",
    "X_train = normalizeData(trainMatrix)\n",
    "Y_train = trainArray[:, 0]\n",
    "\n",
    "testArray = np.asarray(testDistances)\n",
    "testMatrix = testArray[:, 1:]\n",
    "\n",
    "\n",
    "X_test = normalizeData(testMatrix)\n",
    "Y_test = testArray[:, 0]"
   ]
  },
  {
   "cell_type": "code",
   "execution_count": 39,
   "metadata": {},
   "outputs": [
    {
     "data": {
      "text/plain": [
       "0.8765970435616797"
      ]
     },
     "execution_count": 39,
     "metadata": {},
     "output_type": "execute_result"
    }
   ],
   "source": [
    "def accuracy(truth, predict):\n",
    "    return (np.sum(truth == predict))/truth.shape[0]\n",
    "\n",
    "min_x_train = X_train.argmin(axis = 1)\n",
    "min_x_test = X_test.argmin(axis = 1)\n",
    "\n",
    "tl_train_acc = accuracy(Y_train, min_x_train)\n",
    "tl_acc = accuracy(Y_test, min_x_test)\n",
    "tl_train_acc\n",
    "tl_acc"
   ]
  },
  {
   "cell_type": "code",
   "execution_count": null,
   "metadata": {},
   "outputs": [],
   "source": [
    "from sklearn.linear_model import RidgeClassifier\n",
    "\n",
    "clf = RidgeClassifier(tol=1e-2, solver=\"sparse_cg\")\n",
    "clf.fit(X_train, y_train)\n",
    "clf_pred = clf.predict(X_test)"
   ]
  },
  {
   "cell_type": "code",
   "execution_count": 60,
   "metadata": {},
   "outputs": [
    {
     "data": {
      "text/plain": [
       "array([2.56622322, 2.56757474, 3.11101791, ..., 2.56527365, 2.51404543,\n",
       "       2.53592423])"
      ]
     },
     "execution_count": 60,
     "metadata": {},
     "output_type": "execute_result"
    }
   ],
   "source": [
    "from sklearn import linear_model\n",
    "reg = linear_model.Lasso(alpha=0.1)\n",
    "reg.fit(X_train, Y_train)\n",
    "\n",
    "reg_pred = reg.predict(X_test)\n",
    "\n",
    "# correct_test = np.sum(svm100['0'] == reg_pred)\n",
    "\n",
    "# correct_test/svm100.shape[0]\n",
    "reg_pred"
   ]
  },
  {
   "cell_type": "code",
   "execution_count": 54,
   "metadata": {},
   "outputs": [],
   "source": [
    "from sklearn.neural_network import MLPClassifier\n",
    "from sklearn.linear_model import LogisticRegression\n",
    "# clf = MLPClassifier(solver='lbfgs', alpha=1e-5,\n",
    "#                     hidden_layer_sizes=(5, 2), random_state=1)\n",
    "# clf.fit(X_train, Y_train)\n",
    "clf = LogisticRegression(random_state=0).fit(X_train, Y_train)"
   ]
  },
  {
   "cell_type": "code",
   "execution_count": 51,
   "metadata": {},
   "outputs": [
    {
     "data": {
      "text/plain": [
       "0.5281"
      ]
     },
     "execution_count": 51,
     "metadata": {},
     "output_type": "execute_result"
    }
   ],
   "source": [
    "from sklearn import svm\n",
    "svm_model = svm.SVC(kernel=\"poly\", degree=3, gamma=\"auto\", C=1.0, probability = True)\n",
    "svm_model.fit(X_train, Y_train)\n",
    "\n",
    "svm_pred = svm_model.predict(X_test)\n",
    "\n",
    "correct_test = np.sum(svm100['0'] == svm_pred)\n",
    "\n",
    "correct_test/svm100.shape[0]"
   ]
  },
  {
   "cell_type": "code",
   "execution_count": 58,
   "metadata": {},
   "outputs": [
    {
     "data": {
      "text/plain": [
       "0.5546666666666666"
      ]
     },
     "execution_count": 58,
     "metadata": {},
     "output_type": "execute_result"
    }
   ],
   "source": [
    "clf_pred = clf.predict(X_test)\n",
    "\n",
    "correct_test = np.sum(svm100['0'] == clf_pred)\n",
    "\n",
    "correct_test/svm100.shape[0]"
   ]
  },
  {
   "cell_type": "code",
   "execution_count": 39,
   "metadata": {},
   "outputs": [
    {
     "data": {
      "text/plain": [
       "0.5598333333333333"
      ]
     },
     "execution_count": 39,
     "metadata": {},
     "output_type": "execute_result"
    }
   ],
   "source": [
    "#svm100 = pd.read_csv('svm100_42624.csv')\n",
    "svm100 = pd.read_csv('experiments/CYTO_/svm300.csv')\n",
    "\n",
    "\n",
    "correct_test = np.sum(svm100['0'] == svm100['predicted'])\n",
    "\n",
    "correct_test/svm100.shape[0]"
   ]
  },
  {
   "cell_type": "code",
   "execution_count": 57,
   "metadata": {},
   "outputs": [
    {
     "data": {
      "image/png": "[encoded data removed]",
      "text/plain": [
       "<Figure size 720x576 with 2 Axes>"
      ]
     },
     "metadata": {
      "needs_background": "light"
     },
     "output_type": "display_data"
    }
   ],
   "source": [
    "confusion_matrix6 = confusion_matrix(svm100['0'], clf_pred, labels=[0,1, 2, 3, 4, 5])\n",
    "\n",
    "# Calculate the sum of each row (the number of true samples for each class)\n",
    "row_sums = confusion_matrix6.sum(axis=1, keepdims=True)\n",
    "\n",
    "\n",
    "class_labels= ['BLA', 'EBO', 'LYT', 'NGS', 'PLM', 'PMO']\n",
    "\n",
    "\n",
    "# Normalize the confusion matrix by dividing each element by the sum of its row\n",
    "normalized_cm = confusion_matrix6 / row_sums\n",
    "\n",
    "# Plot normalized confusion matrix\n",
    "plt.figure(figsize=(10, 8))\n",
    "sns.heatmap(normalized_cm, annot=True, cmap='Blues', fmt='.2%', cbar=True, xticklabels=class_labels, yticklabels=class_labels)\n",
    "plt.xlabel('Predicted')\n",
    "plt.ylabel('True')\n",
    "plt.title('6 Class Full Cyto, StarGAN ID:10, TD: 0, Confusion Matrix')\n",
    "plt.show()\n"
   ]
  },
  {
   "cell_type": "code",
   "execution_count": 286,
   "metadata": {},
   "outputs": [
    {
     "data": {
      "text/plain": [
       "0.6629339570265896"
      ]
     },
     "execution_count": 286,
     "metadata": {},
     "output_type": "execute_result"
    }
   ],
   "source": [
    "\n",
    "testDistances = pd.read_csv(\"/home/mikylab/github/stargan/experiments/stargan_identity.class6/retest_distances500.csv\", header = None)\n",
    "\n",
    "testArray = np.asarray(testDistances)\n",
    "\n",
    "Y_test = testArray[:, 0]\n",
    "predicted_test = np.load('/home/mikylab/github/stargan/experiments/stargan_identity.class6/svm500_21424.npy')\n",
    "\n",
    "\n",
    "''' Calculate Correct Test Predictions'''\n",
    "class_predictions_test = np.argmax(predicted_test, axis=1)\n",
    "\n",
    "correct_test = np.sum(Y_test == class_predictions_test)\n",
    "\n",
    "correct_test/class_predictions_test.shape[0]"
   ]
  },
  {
   "cell_type": "code",
   "execution_count": 113,
   "metadata": {},
   "outputs": [
    {
     "data": {
      "text/plain": [
       "0.5960788682187813"
      ]
     },
     "execution_count": 113,
     "metadata": {},
     "output_type": "execute_result"
    }
   ],
   "source": [
    "\n",
    "testDistances = pd.read_csv(\"/home/mikylab/github/stargan/experiments/ISIC_32024/ISIC_test_dist32024.csv\", header = None)\n",
    "\n",
    "testArray = np.asarray(testDistances)\n",
    "\n",
    "Y_test = testArray[:, 0]\n",
    "predicted_test = np.load('/home/mikylab/github/stargan/experiments/ISIC_32024/svm300.npy')\n",
    "\n",
    "\n",
    "''' Calculate Correct Test Predictions'''\n",
    "class_predictions_test = np.argmax(predicted_test, axis=1)\n",
    "\n",
    "correct_test = np.sum(Y_test == class_predictions_test)\n",
    "\n",
    "correct_test/class_predictions_test.shape[0]"
   ]
  },
  {
   "cell_type": "code",
   "execution_count": 114,
   "metadata": {},
   "outputs": [
    {
     "data": {
      "text/plain": [
       "0.7957001225353681"
      ]
     },
     "execution_count": 114,
     "metadata": {},
     "output_type": "execute_result"
    }
   ],
   "source": [
    "class_predictions_test[class_predictions_test == 1] = 0\n",
    "Y_test[Y_test == 1] = 0\n",
    "\n",
    "correct_test = np.sum(Y_test == class_predictions_test)\n",
    "\n",
    "correct_test/class_predictions_test.shape[0]"
   ]
  },
  {
   "cell_type": "code",
   "execution_count": 99,
   "metadata": {},
   "outputs": [
    {
     "data": {
      "text/plain": [
       "array([0, 2, 0, 3, 0])"
      ]
     },
     "execution_count": 99,
     "metadata": {},
     "output_type": "execute_result"
    }
   ],
   "source": [
    "R_test = np.array([1, 2, 1, 3, 1])\n",
    "\n",
    "# Mask the elements equal to 1 and assign the value 0\n",
    "R_test[R_test == 1] = 0\n",
    "R_test"
   ]
  },
  {
   "cell_type": "code",
   "execution_count": 185,
   "metadata": {},
   "outputs": [
    {
     "data": {
      "text/plain": [
       "Index([   0,    1,    2,    3,    4,    5,    6,    7,    8,    9,\n",
       "       ...\n",
       "       4148, 4149, 4150, 4151, 4152, 4153, 4154, 4155, 4156, 4157],\n",
       "      dtype='int64', length=4137)"
      ]
     },
     "execution_count": 185,
     "metadata": {},
     "output_type": "execute_result"
    }
   ],
   "source": [
    "# df = pd.read_csv(self.subset_dir, header=None)\n",
    "# subset_indices = df.values.flatten().astype(int).tolist()\n",
    "testDistances = pd.read_csv(\"/home/mikylab/github/stargan/experiments/ISIC_3624/ISIC_test_dist3624.csv\", header= None)\n",
    "testDistances#[0].values.flatten().astype(int).tolist()\n",
    "\n",
    "# \n",
    "\n",
    "testDistances['predicted_class'] = class_predictions_test\n",
    "testDistances.loc[(testDistances[0] == 0) & (testDistances.predicted_class == 0)].index\n",
    "\n",
    "indices = testDistances.loc[(testDistances[0] == 0) & (testDistances.predicted_class == 0)].index\n",
    "\n",
    "\n",
    "list(indices[0:10])\n",
    "\n",
    "#testDistances.to_csv('/home/mikylab/github/stargan/experiments/ISIC_3624/test_subset.csv', index = False)\n",
    "#pd.read_csv(\"/home/mikylab/github/stargan/experiments/ISIC_3624/test_subset.csv\")\n",
    "\n",
    "\n",
    "indices"
   ]
  },
  {
   "cell_type": "code",
   "execution_count": 186,
   "metadata": {},
   "outputs": [
    {
     "data": {
      "text/html": [
       "<div>\n",
       "<style scoped>\n",
       "    .dataframe tbody tr th:only-of-type {\n",
       "        vertical-align: middle;\n",
       "    }\n",
       "\n",
       "    .dataframe tbody tr th {\n",
       "        vertical-align: top;\n",
       "    }\n",
       "\n",
       "    .dataframe thead th {\n",
       "        text-align: right;\n",
       "    }\n",
       "</style>\n",
       "<table border=\"1\" class=\"dataframe\">\n",
       "  <thead>\n",
       "    <tr style=\"text-align: right;\">\n",
       "      <th></th>\n",
       "      <th>0</th>\n",
       "      <th>1</th>\n",
       "      <th>2</th>\n",
       "      <th>3</th>\n",
       "      <th>predicted_class</th>\n",
       "    </tr>\n",
       "  </thead>\n",
       "  <tbody>\n",
       "    <tr>\n",
       "      <th>0</th>\n",
       "      <td>0</td>\n",
       "      <td>3411.3838</td>\n",
       "      <td>11169.6190</td>\n",
       "      <td>13037.0470</td>\n",
       "      <td>0</td>\n",
       "    </tr>\n",
       "    <tr>\n",
       "      <th>1</th>\n",
       "      <td>0</td>\n",
       "      <td>4312.9360</td>\n",
       "      <td>8794.7250</td>\n",
       "      <td>8778.8590</td>\n",
       "      <td>0</td>\n",
       "    </tr>\n",
       "    <tr>\n",
       "      <th>2</th>\n",
       "      <td>0</td>\n",
       "      <td>2499.8867</td>\n",
       "      <td>5154.4960</td>\n",
       "      <td>5660.4320</td>\n",
       "      <td>0</td>\n",
       "    </tr>\n",
       "    <tr>\n",
       "      <th>3</th>\n",
       "      <td>0</td>\n",
       "      <td>2239.9082</td>\n",
       "      <td>3222.7803</td>\n",
       "      <td>3075.7200</td>\n",
       "      <td>0</td>\n",
       "    </tr>\n",
       "    <tr>\n",
       "      <th>4</th>\n",
       "      <td>0</td>\n",
       "      <td>3154.8362</td>\n",
       "      <td>13696.0130</td>\n",
       "      <td>15510.9180</td>\n",
       "      <td>0</td>\n",
       "    </tr>\n",
       "    <tr>\n",
       "      <th>...</th>\n",
       "      <td>...</td>\n",
       "      <td>...</td>\n",
       "      <td>...</td>\n",
       "      <td>...</td>\n",
       "      <td>...</td>\n",
       "    </tr>\n",
       "    <tr>\n",
       "      <th>4153</th>\n",
       "      <td>0</td>\n",
       "      <td>2578.3420</td>\n",
       "      <td>2805.2722</td>\n",
       "      <td>3049.3818</td>\n",
       "      <td>0</td>\n",
       "    </tr>\n",
       "    <tr>\n",
       "      <th>4154</th>\n",
       "      <td>0</td>\n",
       "      <td>3027.7134</td>\n",
       "      <td>3117.0906</td>\n",
       "      <td>3377.7520</td>\n",
       "      <td>0</td>\n",
       "    </tr>\n",
       "    <tr>\n",
       "      <th>4155</th>\n",
       "      <td>0</td>\n",
       "      <td>2156.5928</td>\n",
       "      <td>4017.7595</td>\n",
       "      <td>4378.9736</td>\n",
       "      <td>0</td>\n",
       "    </tr>\n",
       "    <tr>\n",
       "      <th>4156</th>\n",
       "      <td>0</td>\n",
       "      <td>2445.7283</td>\n",
       "      <td>2503.9556</td>\n",
       "      <td>2358.9365</td>\n",
       "      <td>0</td>\n",
       "    </tr>\n",
       "    <tr>\n",
       "      <th>4157</th>\n",
       "      <td>0</td>\n",
       "      <td>1566.6882</td>\n",
       "      <td>3227.9487</td>\n",
       "      <td>2955.8806</td>\n",
       "      <td>0</td>\n",
       "    </tr>\n",
       "  </tbody>\n",
       "</table>\n",
       "<p>4158 rows × 5 columns</p>\n",
       "</div>"
      ],
      "text/plain": [
       "      0          1           2           3  predicted_class\n",
       "0     0  3411.3838  11169.6190  13037.0470                0\n",
       "1     0  4312.9360   8794.7250   8778.8590                0\n",
       "2     0  2499.8867   5154.4960   5660.4320                0\n",
       "3     0  2239.9082   3222.7803   3075.7200                0\n",
       "4     0  3154.8362  13696.0130  15510.9180                0\n",
       "...  ..        ...         ...         ...              ...\n",
       "4153  0  2578.3420   2805.2722   3049.3818                0\n",
       "4154  0  3027.7134   3117.0906   3377.7520                0\n",
       "4155  0  2156.5928   4017.7595   4378.9736                0\n",
       "4156  0  2445.7283   2503.9556   2358.9365                0\n",
       "4157  0  1566.6882   3227.9487   2955.8806                0\n",
       "\n",
       "[4158 rows x 5 columns]"
      ]
     },
     "execution_count": 186,
     "metadata": {},
     "output_type": "execute_result"
    }
   ],
   "source": [
    "ben_sing"
   ]
  },
  {
   "cell_type": "code",
   "execution_count": 235,
   "metadata": {},
   "outputs": [
    {
     "data": {
      "text/plain": [
       "<matplotlib.colorbar.Colorbar at 0x7f580ce7d670>"
      ]
     },
     "execution_count": 235,
     "metadata": {},
     "output_type": "execute_result"
    },
    {
     "data": {
      "image/png": "[encoded data removed]",
      "text/plain": [
       "<Figure size 432x288 with 2 Axes>"
      ]
     },
     "metadata": {
      "needs_background": "light"
     },
     "output_type": "display_data"
    }
   ],
   "source": [
    "import matplotlib.colors as mcolors\n",
    "ben_sing= testDistances[testDistances[0] == 0]\n",
    "ben_hist= testDistances[testDistances[0] == 1]\n",
    "mal_hist= testDistances[testDistances[0] == 2]\n",
    "\n",
    "\n",
    "x_max = ben_sing[1].max()\n",
    "x_min = ben_sing[1].min()\n",
    "y_max = ben_sing[1].max()\n",
    "y_min = ben_sing[1].min()\n",
    "\n",
    "# ben_hist = mal_hist[mal_hist.predicted_class == 1]\n",
    "# ben_hist\n",
    "\n",
    "# plt.scatter(mal_hist[2], mal_hist[3], alpha = .2, c = 'blue')\n",
    "\n",
    "# class_colors = ['blue', 'green', 'red']\n",
    "# cmap = mcolors.ListedColormap(class_colors)\n",
    "\n",
    "#plt.scatter(ben_sing[1], ben_sing[3],alpha = .2, c = ben_sing['predicted_class'], cmap = cmap, label = \"Benign Single Expert\")\n",
    "# plt.scatter(mal_hist[3], mal_hist[1],alpha = .2, c = mal_hist['predicted_class'], cmap = cmap, label = \"Benign Single Expert\")\n",
    "\n",
    "\n",
    "\n",
    "# plt.scatter(ben_hist[2], ben_hist[3],alpha = .2, c = 'orange',label = \"Benign Histopathology Expert\")\n",
    "# plt.scatter(mal_hist[2], mal_hist[3],alpha = .2, c = 'red',label = \"Malignant Histopathology Expert\")\n",
    "# plt.colorbar(label='Predicted Class')\n",
    "\n",
    "plt.hist2d(ben_sing[1], ben_sing[2], bins=35, cmap ='Blues')\n",
    "\n",
    "plt.xlim(x_min,10000)\n",
    "plt.ylim(y_min,35000)\n",
    "\n",
    "#plt.hist2d(ben_sing[1], ben_sing[2], bins=35, alpha = .2, cmap ='Blues')\n",
    "\n",
    "plt.ylabel(\"Benign Single Expert\")\n",
    "plt.xlabel(\"Malignant Histopathology \")\n",
    "plt.colorbar(label='Frequency')\n",
    "# plt.title(\"Malignant Images\")\n",
    "# plt.legend()"
   ]
  },
  {
   "cell_type": "code",
   "execution_count": 260,
   "metadata": {},
   "outputs": [
    {
     "data": {
      "image/png": "[encoded data removed]",
      "text/plain": [
       "<Figure size 720x432 with 3 Axes>"
      ]
     },
     "metadata": {
      "needs_background": "light"
     },
     "output_type": "display_data"
    }
   ],
   "source": [
    "# Plot a hexbin plot of the data. Use for larger image samples. \n",
    "\n",
    "x1 = ben_hist[2]\n",
    "y1 = ben_hist[3]\n",
    "\n",
    "x2 = mal_hist[2]\n",
    "y2 = mal_hist[3]\n",
    "\n",
    "# Define hexbin grid extent\n",
    "xmin = min(*x1, *x2)\n",
    "xmax = max(*x1, *x2)\n",
    "ymin = min(*y1, *y2)\n",
    "ymax = max(*y1, *y2)\n",
    "ext = (xmin, xmax, ymin, ymax)\n",
    "\n",
    "# Draw figure with colorbars\n",
    "plt.figure(figsize=(10, 6))\n",
    "hist1 = plt.hexbin(x1, y1, gridsize=30, cmap='Blues', mincnt=1, alpha=1, extent=ext)\n",
    "hist2 = plt.hexbin(x2, y2, gridsize=30, cmap='Reds', mincnt=1, alpha=.5, extent=ext)\n",
    "\n",
    "clb2 = plt.colorbar(hist2, orientation='vertical')\n",
    "clb1 = plt.colorbar(hist1, orientation='vertical')\n",
    "\n",
    "# Set titles \n",
    "clb1.ax.set_title('Benign Histo-\\npathology Images',fontsize=10)\n",
    "clb2.ax.set_title('Malignant Histo-\\npathology Images',fontsize=10)\n",
    "plt.title(\"L1 Distances\")\n",
    "plt.xlabel(\"L1 Distance to Benign Histopathology\")\n",
    "plt.ylabel(\"L1 Distance to Malignant Histopathology\")\n",
    "\n",
    "plt.show()"
   ]
  },
  {
   "cell_type": "code",
   "execution_count": 212,
   "metadata": {},
   "outputs": [],
   "source": [
    "testDistances = pd.read_csv(\"/home/mikylab/github/stargan/experiments/stargan_identity.class6/retest_distances500.csv\", header = None)\n",
    "Y_test = np.asarray(testDistances)[:, 0]\n",
    "testDistances['truth']= Y_test\n",
    "data = testDistances. drop(0, axis=1)\n",
    "\n"
   ]
  },
  {
   "cell_type": "code",
   "execution_count": 190,
   "metadata": {},
   "outputs": [
    {
     "name": "stdout",
     "output_type": "stream",
     "text": [
      "Average column-wise:\n",
      "0        0.000000\n",
      "1     2030.105813\n",
      "2     8300.963548\n",
      "3    13697.039771\n",
      "4    21679.366165\n",
      "5     4971.494900\n",
      "6     5545.698981\n",
      "dtype: float64\n"
     ]
    }
   ],
   "source": [
    "average_column_wise =testDistances[0:6972].mean(axis=0)\n",
    "\n",
    "\n",
    "print(\"Average column-wise:\")\n",
    "print(average_column_wise)"
   ]
  },
  {
   "cell_type": "code",
   "execution_count": 63,
   "metadata": {},
   "outputs": [],
   "source": [
    "# train_distances = pd.read_csv(\"/home/mikylab/github/stargan/experiments/stargan_identity.class6/retest_distances500.csv\")\n",
    "# train_distances"
   ]
  },
  {
   "cell_type": "code",
   "execution_count": 98,
   "metadata": {},
   "outputs": [],
   "source": [
    "# trainDistances = pd.read_csv(config.train_dist_dir)\n",
    "# trainArray = np.asarray(trainDistances)\n",
    "# trainMatrix = trainArray[:, 1:3]\n",
    "\n",
    "# X_train = normalizeData(trainMatrix)\n",
    "# Y_train = trainArray[:, 0]\n",
    "\n",
    "testDistances = pd.read_csv(\"retest_distances500.csv\")\n",
    "testArray = np.asarray(testDistances)\n",
    "testMatrix = testArray[:, 1:3]\n",
    "\n",
    "X_test = normalizeData(testMatrix)\n",
    "Y_test = testArray[:, 0]"
   ]
  },
  {
   "cell_type": "code",
   "execution_count": 99,
   "metadata": {},
   "outputs": [],
   "source": [
    "predicted_values_test = np.load('retest_svm500.npy')\n",
    "class_predictions_test = np.argmax(predicted_values_test, axis =1)"
   ]
  },
  {
   "cell_type": "code",
   "execution_count": 100,
   "metadata": {},
   "outputs": [],
   "source": [
    "class_num = 5\n",
    "Y_mask = Y_test[Y_test == class_num]\n",
    "class_pred_mask = class_predictions_test[Y_test == class_num]"
   ]
  },
  {
   "cell_type": "code",
   "execution_count": 101,
   "metadata": {},
   "outputs": [
    {
     "name": "stdout",
     "output_type": "stream",
     "text": [
      "0.5265942236202459\n"
     ]
    }
   ],
   "source": [
    "correct_test = np.sum(Y_mask == class_pred_mask)\n",
    "accuracy = correct_test/Y_mask.shape[0]\n",
    "print(accuracy)"
   ]
  },
  {
   "cell_type": "code",
   "execution_count": 107,
   "metadata": {},
   "outputs": [
    {
     "data": {
      "text/html": [
       "<div>\n",
       "<style scoped>\n",
       "    .dataframe tbody tr th:only-of-type {\n",
       "        vertical-align: middle;\n",
       "    }\n",
       "\n",
       "    .dataframe tbody tr th {\n",
       "        vertical-align: top;\n",
       "    }\n",
       "\n",
       "    .dataframe thead th {\n",
       "        text-align: right;\n",
       "    }\n",
       "</style>\n",
       "<table border=\"1\" class=\"dataframe\">\n",
       "  <thead>\n",
       "    <tr style=\"text-align: right;\">\n",
       "      <th></th>\n",
       "      <th>0</th>\n",
       "      <th>1553.0352</th>\n",
       "      <th>4165.671</th>\n",
       "      <th>3522.7744</th>\n",
       "      <th>17582.979</th>\n",
       "      <th>3019.5251</th>\n",
       "      <th>7352.5894</th>\n",
       "    </tr>\n",
       "  </thead>\n",
       "  <tbody>\n",
       "    <tr>\n",
       "      <th>0</th>\n",
       "      <td>0</td>\n",
       "      <td>1622.9788</td>\n",
       "      <td>8188.3430</td>\n",
       "      <td>12876.5680</td>\n",
       "      <td>21882.1900</td>\n",
       "      <td>2277.7966</td>\n",
       "      <td>2456.1907</td>\n",
       "    </tr>\n",
       "    <tr>\n",
       "      <th>1</th>\n",
       "      <td>0</td>\n",
       "      <td>2090.6870</td>\n",
       "      <td>4420.7925</td>\n",
       "      <td>39844.6950</td>\n",
       "      <td>45240.2850</td>\n",
       "      <td>1686.7994</td>\n",
       "      <td>4303.0244</td>\n",
       "    </tr>\n",
       "    <tr>\n",
       "      <th>2</th>\n",
       "      <td>0</td>\n",
       "      <td>1720.6661</td>\n",
       "      <td>3207.9856</td>\n",
       "      <td>13371.5810</td>\n",
       "      <td>20655.8500</td>\n",
       "      <td>1777.4719</td>\n",
       "      <td>3779.9258</td>\n",
       "    </tr>\n",
       "    <tr>\n",
       "      <th>3</th>\n",
       "      <td>0</td>\n",
       "      <td>2249.4146</td>\n",
       "      <td>7789.9434</td>\n",
       "      <td>15673.8740</td>\n",
       "      <td>20229.5000</td>\n",
       "      <td>7213.4834</td>\n",
       "      <td>1668.0385</td>\n",
       "    </tr>\n",
       "    <tr>\n",
       "      <th>4</th>\n",
       "      <td>0</td>\n",
       "      <td>1300.1941</td>\n",
       "      <td>10151.9200</td>\n",
       "      <td>1267.1344</td>\n",
       "      <td>3352.8496</td>\n",
       "      <td>3993.6360</td>\n",
       "      <td>8390.7650</td>\n",
       "    </tr>\n",
       "    <tr>\n",
       "      <th>...</th>\n",
       "      <td>...</td>\n",
       "      <td>...</td>\n",
       "      <td>...</td>\n",
       "      <td>...</td>\n",
       "      <td>...</td>\n",
       "      <td>...</td>\n",
       "      <td>...</td>\n",
       "    </tr>\n",
       "    <tr>\n",
       "      <th>84651</th>\n",
       "      <td>5</td>\n",
       "      <td>7429.5903</td>\n",
       "      <td>13614.9320</td>\n",
       "      <td>34642.0000</td>\n",
       "      <td>41222.4100</td>\n",
       "      <td>3521.1433</td>\n",
       "      <td>1934.4280</td>\n",
       "    </tr>\n",
       "    <tr>\n",
       "      <th>84652</th>\n",
       "      <td>5</td>\n",
       "      <td>7807.9927</td>\n",
       "      <td>14335.6600</td>\n",
       "      <td>18161.9160</td>\n",
       "      <td>22686.4920</td>\n",
       "      <td>11105.0680</td>\n",
       "      <td>2409.7373</td>\n",
       "    </tr>\n",
       "    <tr>\n",
       "      <th>84653</th>\n",
       "      <td>5</td>\n",
       "      <td>10299.4920</td>\n",
       "      <td>11372.0240</td>\n",
       "      <td>20984.2970</td>\n",
       "      <td>27997.6740</td>\n",
       "      <td>8732.1560</td>\n",
       "      <td>2037.2748</td>\n",
       "    </tr>\n",
       "    <tr>\n",
       "      <th>84654</th>\n",
       "      <td>5</td>\n",
       "      <td>4592.3345</td>\n",
       "      <td>10290.9880</td>\n",
       "      <td>17996.3240</td>\n",
       "      <td>20368.7850</td>\n",
       "      <td>4935.4290</td>\n",
       "      <td>1733.5308</td>\n",
       "    </tr>\n",
       "    <tr>\n",
       "      <th>84655</th>\n",
       "      <td>5</td>\n",
       "      <td>1744.2366</td>\n",
       "      <td>11033.6230</td>\n",
       "      <td>14069.3870</td>\n",
       "      <td>21693.6050</td>\n",
       "      <td>6192.7300</td>\n",
       "      <td>2374.6604</td>\n",
       "    </tr>\n",
       "  </tbody>\n",
       "</table>\n",
       "<p>84656 rows × 7 columns</p>\n",
       "</div>"
      ],
      "text/plain": [
       "       0   1553.0352    4165.671   3522.7744   17582.979   3019.5251  \\\n",
       "0      0   1622.9788   8188.3430  12876.5680  21882.1900   2277.7966   \n",
       "1      0   2090.6870   4420.7925  39844.6950  45240.2850   1686.7994   \n",
       "2      0   1720.6661   3207.9856  13371.5810  20655.8500   1777.4719   \n",
       "3      0   2249.4146   7789.9434  15673.8740  20229.5000   7213.4834   \n",
       "4      0   1300.1941  10151.9200   1267.1344   3352.8496   3993.6360   \n",
       "...   ..         ...         ...         ...         ...         ...   \n",
       "84651  5   7429.5903  13614.9320  34642.0000  41222.4100   3521.1433   \n",
       "84652  5   7807.9927  14335.6600  18161.9160  22686.4920  11105.0680   \n",
       "84653  5  10299.4920  11372.0240  20984.2970  27997.6740   8732.1560   \n",
       "84654  5   4592.3345  10290.9880  17996.3240  20368.7850   4935.4290   \n",
       "84655  5   1744.2366  11033.6230  14069.3870  21693.6050   6192.7300   \n",
       "\n",
       "       7352.5894  \n",
       "0      2456.1907  \n",
       "1      4303.0244  \n",
       "2      3779.9258  \n",
       "3      1668.0385  \n",
       "4      8390.7650  \n",
       "...          ...  \n",
       "84651  1934.4280  \n",
       "84652  2409.7373  \n",
       "84653  2037.2748  \n",
       "84654  1733.5308  \n",
       "84655  2374.6604  \n",
       "\n",
       "[84656 rows x 7 columns]"
      ]
     },
     "execution_count": 107,
     "metadata": {},
     "output_type": "execute_result"
    }
   ],
   "source": [
    "pd.read_csv(\"retest_distances500.csv\")"
   ]
  },
  {
   "cell_type": "code",
   "execution_count": 124,
   "metadata": {},
   "outputs": [
    {
     "name": "stdout",
     "output_type": "stream",
     "text": [
      "[(2419, 0), (50, 1), (456, 2), (11, 3), (1197, 4)]\n"
     ]
    }
   ],
   "source": [
    "incorrect_test = class_pred_mask[Y_mask != class_pred_mask]\n",
    "incorrect_test\n",
    "\n",
    "# Count occurrences using np.bincount\n",
    "counts = np.bincount(incorrect_test)\n",
    "\n",
    "# Display the counts\n",
    "unique_values = np.nonzero(counts)[0]\n",
    "print(list(zip(counts[unique_values], unique_values)))"
   ]
  },
  {
   "cell_type": "code",
   "execution_count": 10,
   "metadata": {},
   "outputs": [
    {
     "name": "stdout",
     "output_type": "stream",
     "text": [
      "Class 1:\n",
      "TP: 3542, TN: 4348, FP: 471, FN: 616\n",
      "\n",
      "Class 2:\n",
      "TP: 2207, TN: 4333, FP: 1744, FN: 693\n",
      "\n",
      "Class 3:\n",
      "TP: 612, TN: 6657, FP: 401, FN: 1307\n",
      "\n",
      "Class 4:\n",
      "TP: 0, TN: 8977, FP: 0, FN: 0\n",
      "\n",
      "Class 5:\n",
      "TP: 0, TN: 8977, FP: 0, FN: 0\n",
      "\n",
      "Class 6:\n",
      "TP: 0, TN: 8977, FP: 0, FN: 0\n",
      "\n"
     ]
    }
   ],
   "source": [
    "from sklearn.metrics import confusion_matrix\n",
    "\n",
    "confusion_matrix_test = confusion_matrix(Y_test, class_predictions_test, labels=[0,1, 2, 3, 4, 5])\n",
    "\n",
    "\n",
    "for i in range(len(confusion_matrix_test)):\n",
    "    class_name = f\"Class {i + 1}\"\n",
    "    TP = confusion_matrix_test[i, i]\n",
    "    TN = np.sum(np.delete(np.delete(confusion_matrix_test, i, axis=0), i, axis=1))\n",
    "    FP = np.sum(confusion_matrix_test[:, i]) - TP\n",
    "    FN = np.sum(confusion_matrix_test[i, :]) - TP\n",
    "\n",
    "    print(f\"{class_name}:\")\n",
    "    print(f\"TP: {TP}, TN: {TN}, FP: {FP}, FN: {FN}\\n\")\n"
   ]
  },
  {
   "cell_type": "code",
   "execution_count": 58,
   "metadata": {},
   "outputs": [],
   "source": [
    "#confusion_matrix6 = confusion_matrix(Y_test, class_predictions_test, labels=[0,1, 2, 3, 4, 5])\n",
    "confusion_matrix3 = confusion_matrix(Y_test, class_predictions_test, labels=[0,1, 2])\n",
    "\n"
   ]
  },
  {
   "cell_type": "code",
   "execution_count": 53,
   "metadata": {},
   "outputs": [
    {
     "data": {
      "text/plain": [
       "(8977,)"
      ]
     },
     "execution_count": 53,
     "metadata": {},
     "output_type": "execute_result"
    }
   ],
   "source": [
    "class_predictions_test.shape"
   ]
  },
  {
   "cell_type": "code",
   "execution_count": 54,
   "metadata": {},
   "outputs": [],
   "source": [
    "np.save(\"StarGAN_3624\", class_predictions_test)"
   ]
  },
  {
   "cell_type": "code",
   "execution_count": 61,
   "metadata": {},
   "outputs": [
    {
     "data": {
      "image/png": "[encoded data removed]",
      "text/plain": [
       "<Figure size 720x576 with 2 Axes>"
      ]
     },
     "metadata": {
      "needs_background": "light"
     },
     "output_type": "display_data"
    }
   ],
   "source": [
    "# Plot confusion matrix\n",
    "plt.figure(figsize=(10, 8))\n",
    "class_labels= ['Benign Single', 'Benign Histopathology', 'Malignant Histopathology']\n",
    "sns.heatmap(confusion_matrix3, annot=True, cmap='Blues', fmt='g', cbar=True, xticklabels=class_labels, yticklabels=class_labels)\n",
    "plt.xlabel('Predicted')\n",
    "plt.ylabel('True')\n",
    "plt.title('3 Class, ID:0, Confusion Matrix')\n",
    "plt.show()"
   ]
  },
  {
   "cell_type": "code",
   "execution_count": 62,
   "metadata": {},
   "outputs": [
    {
     "data": {
      "image/png": "[encoded data removed]",
      "text/plain": [
       "<Figure size 720x576 with 2 Axes>"
      ]
     },
     "metadata": {
      "needs_background": "light"
     },
     "output_type": "display_data"
    }
   ],
   "source": [
    "#confusion_matrix6 = confusion_matrix(Y_test, class_predictions_test, labels=[0,1, 2, 3, 4, 5])\n",
    "\n",
    "# Calculate the sum of each row (the number of true samples for each class)\n",
    "row_sums = confusion_matrix3.sum(axis=1, keepdims=True)\n",
    "\n",
    "# Normalize the confusion matrix by dividing each element by the sum of its row\n",
    "normalized_cm = confusion_matrix3 / row_sums\n",
    "\n",
    "# Plot normalized confusion matrix\n",
    "plt.figure(figsize=(10, 8))\n",
    "sns.heatmap(normalized_cm, annot=True, cmap='Blues', fmt='.2%', cbar=True, xticklabels=class_labels, yticklabels=class_labels)\n",
    "plt.xlabel('Predicted')\n",
    "plt.ylabel('True')\n",
    "plt.title('3 Class, StarGAN ID:0.0, Confusion Matrix')\n",
    "plt.show()\n"
   ]
  },
  {
   "cell_type": "code",
   "execution_count": 31,
   "metadata": {},
   "outputs": [
    {
     "name": "stdout",
     "output_type": "stream",
     "text": [
      "Class 1 Accuracy: 0.8825\n",
      "Class 2 Accuracy: 0.9339\n",
      "Class 3 Accuracy: 0.7572\n",
      "Class 4 Accuracy: 0.8921\n",
      "Class 5 Accuracy: 0.8903\n",
      "Class 6 Accuracy: 0.8986\n",
      "\n",
      "Overall Accuracy: 0.8758\n"
     ]
    }
   ],
   "source": [
    "# Given TP, TN, FP, FN values for each class\n",
    "TP_values = np.array([6733, 21427, 5394, 15805, 889, 2861])\n",
    "TN_values = np.array([67978, 57632, 58711, 59719, 74479, 73214])\n",
    "FP_values = np.array([9706, 4629, 4703, 513, 7548, 4448])\n",
    "FN_values = np.array([239, 968, 15848, 8619, 1740, 4133])\n",
    "\n",
    "# Calculate accuracy for each class\n",
    "accuracy_per_class = (TP_values + TN_values) / (TP_values + TN_values + FP_values + FN_values)\n",
    "\n",
    "# Overall accuracy (average accuracy across all classes)\n",
    "overall_accuracy = np.mean(accuracy_per_class)\n",
    "\n",
    "# Print results\n",
    "for i, class_name in enumerate([\"Class 1\", \"Class 2\", \"Class 3\", \"Class 4\", \"Class 5\", \"Class 6\"]):\n",
    "    print(f\"{class_name} Accuracy: {accuracy_per_class[i]:.4f}\")\n",
    "\n",
    "print(f\"\\nOverall Accuracy: {overall_accuracy:.4f}\")\n"
   ]
  },
  {
   "cell_type": "code",
   "execution_count": 62,
   "metadata": {},
   "outputs": [
    {
     "data": {
      "image/png": "[encoded data removed]",
      "text/plain": [
       "<Figure size 864x432 with 1 Axes>"
      ]
     },
     "metadata": {
      "needs_background": "light"
     },
     "output_type": "display_data"
    }
   ],
   "source": [
    "import numpy as np\n",
    "import matplotlib.pyplot as plt\n",
    "\n",
    "# Define the confusion matrix\n",
    "conf_matrix = np.array([[6540, 101, 69, 5, 28, 229],\n",
    "                        [554, 21344, 367, 37, 50, 43],\n",
    "                        [4115, 2451, 6556, 810, 3477, 3833],\n",
    "                        [144, 299, 2728, 17102, 2708, 1443],\n",
    "                        [138, 234, 730, 50, 907, 570],\n",
    "                        [1433, 39, 551, 19, 1269, 3683]])\n",
    "\n",
    "# Calculate percentages\n",
    "total_predictions = np.sum(conf_matrix, axis=1)\n",
    "percentages = conf_matrix / total_predictions[:, np.newaxis] * 100\n",
    "\n",
    "# Plotting\n",
    "plt.figure(figsize=(12, 6))\n",
    "\n",
    "classes = ['BLA', 'EBO', 'LYT', 'NGS', 'PLM', 'PMO']\n",
    "bar_width = 0.1\n",
    "index = np.arange(len(classes))\n",
    "\n",
    "for i in range(len(classes)):\n",
    "    plt.bar(index + i * bar_width, percentages[:, i], bar_width, label=classes[i])\n",
    "    max_index = np.argmax(percentages[:, i])\n",
    "#     plt.text(index[max_index], bottom[max_index] - percentages[max_index, i] / 2, f'{percentages[max_index, i]:.1f}%', ha='center', va='bottom')\n",
    "\n",
    "plt.xlabel('True Classes')\n",
    "plt.ylabel('Predicted Classes Percentage')\n",
    "plt.title('Predicted Classes Percentages')\n",
    "plt.xticks(index + 0.3, classes)\n",
    "plt.legend()\n",
    "plt.tight_layout()\n",
    "plt.show()\n"
   ]
  },
  {
   "cell_type": "code",
   "execution_count": 58,
   "metadata": {},
   "outputs": [
    {
     "data": {
      "image/png": "[encoded data removed]",
      "text/plain": [
       "<Figure size 864x432 with 1 Axes>"
      ]
     },
     "metadata": {
      "needs_background": "light"
     },
     "output_type": "display_data"
    }
   ],
   "source": [
    "import numpy as np\n",
    "import matplotlib.pyplot as plt\n",
    "\n",
    "# Define the confusion matrix\n",
    "conf_matrix = np.array([[6540, 101, 69, 5, 28, 229],\n",
    "                        [554, 21344, 367, 37, 50, 43],\n",
    "                        [4115, 2451, 6556, 810, 3477, 3833],\n",
    "                        [144, 299, 2728, 17102, 2708, 1443],\n",
    "                        [138, 234, 730, 50, 907, 570],\n",
    "                        [1433, 39, 551, 19, 1269, 3683]])\n",
    "\n",
    "# Calculate percentages\n",
    "total_predictions = np.sum(conf_matrix, axis=1)\n",
    "percentages = conf_matrix / total_predictions[:, np.newaxis] * 100\n",
    "\n",
    "# Plotting\n",
    "plt.figure(figsize=(12, 6))\n",
    "\n",
    "classes = ['BLA', 'EBO', 'LYT', 'NGS', 'PLM', 'PMO']\n",
    "index = np.arange(len(classes))\n",
    "\n",
    "bottom = np.zeros(len(classes))  # Bottom value for stacking bars\n",
    "\n",
    "for i, cls in enumerate(classes):\n",
    "    plt.bar(index, percentages[:, i], label=classes[i], bottom=bottom, alpha=0.8)\n",
    "    bottom += percentages[:, i]\n",
    "\n",
    "    # Add percentage label for the class with the highest percentage\n",
    "    max_index = np.argmax(percentages[:, i])\n",
    "    plt.text(index[max_index], bottom[max_index] - percentages[max_index, i] / 2, f'{percentages[max_index, i]:.1f}%', ha='center', va='center')\n",
    "\n",
    "plt.xlabel('True Classes')\n",
    "plt.ylabel('Predicted Classes Percentage')\n",
    "plt.title('Predicted Classes Percentages')\n",
    "plt.xticks(index, classes)\n",
    "plt.legend()\n",
    "plt.tight_layout()\n",
    "plt.show()\n"
   ]
  },
  {
   "cell_type": "code",
   "execution_count": 92,
   "metadata": {},
   "outputs": [
    {
     "name": "stdout",
     "output_type": "stream",
     "text": [
      "49.21113023522662\n",
      "61.56284885018978\n",
      "17.470520799213887\n",
      "51.23648869963971\n",
      "28.527957398250287\n",
      "33.27137546468401\n"
     ]
    },
    {
     "data": {
      "image/png": "[encoded data removed]",
      "text/plain": [
       "<Figure size 864x432 with 1 Axes>"
      ]
     },
     "metadata": {
      "needs_background": "light"
     },
     "output_type": "display_data"
    }
   ],
   "source": [
    "import numpy as np\n",
    "import matplotlib.pyplot as plt\n",
    "\n",
    "# Define the confusion matrix\n",
    "conf_matrix = confusion_matrix\n",
    "\n",
    "# Calculate percentages\n",
    "total_predictions = np.sum(conf_matrix, axis=1)\n",
    "percentages = conf_matrix / total_predictions[:, np.newaxis] * 100\n",
    "\n",
    "# Plotting\n",
    "plt.figure(figsize=(12, 6))\n",
    "\n",
    "# classes = ['BLA', 'EBO', 'LYT']\n",
    "classes = ['BLA', 'EBO', 'LYT', 'NGS', 'PLM', 'PMO']\n",
    "\n",
    "index = np.arange(len(classes))\n",
    "\n",
    "bottom = np.zeros(len(classes))  # Bottom value for stacking bars\n",
    "\n",
    "for i, cls in enumerate(classes):\n",
    "    plt.bar(index, percentages[:, i], label=classes[i], bottom=bottom, alpha=0.8)\n",
    "    bottom += percentages[:, i]\n",
    "\n",
    "    # Add percentage label for the class with the highest percentage\n",
    "    max_index = np.argmax(percentages[:, i])\n",
    "    print(percentages[max_index, i])\n",
    "    plt.text(index[max_index], bottom[max_index] - percentages[max_index, i] / 2, f'{percentages[max_index, i]:.1f}%', ha='center', va='center')\n",
    "\n",
    "plt.xlabel('True Classes')\n",
    "plt.ylabel('Predicted Classes Percentage')\n",
    "plt.title('Predicted Classes Percentages')\n",
    "plt.xticks(index, classes)\n",
    "plt.legend()\n",
    "plt.tight_layout()\n",
    "plt.show()\n"
   ]
  },
  {
   "cell_type": "code",
   "execution_count": 262,
   "metadata": {},
   "outputs": [
    {
     "data": {
      "text/html": [
       "<div>\n",
       "<style scoped>\n",
       "    .dataframe tbody tr th:only-of-type {\n",
       "        vertical-align: middle;\n",
       "    }\n",
       "\n",
       "    .dataframe tbody tr th {\n",
       "        vertical-align: top;\n",
       "    }\n",
       "\n",
       "    .dataframe thead th {\n",
       "        text-align: right;\n",
       "    }\n",
       "</style>\n",
       "<table border=\"1\" class=\"dataframe\">\n",
       "  <thead>\n",
       "    <tr style=\"text-align: right;\">\n",
       "      <th></th>\n",
       "      <th>0</th>\n",
       "      <th>1</th>\n",
       "      <th>2</th>\n",
       "      <th>3</th>\n",
       "    </tr>\n",
       "  </thead>\n",
       "  <tbody>\n",
       "    <tr>\n",
       "      <th>0</th>\n",
       "      <td>0</td>\n",
       "      <td>2121.6480</td>\n",
       "      <td>5149.5910</td>\n",
       "      <td>4332.4640</td>\n",
       "    </tr>\n",
       "    <tr>\n",
       "      <th>1</th>\n",
       "      <td>0</td>\n",
       "      <td>2817.0380</td>\n",
       "      <td>6967.7876</td>\n",
       "      <td>7647.3680</td>\n",
       "    </tr>\n",
       "    <tr>\n",
       "      <th>2</th>\n",
       "      <td>0</td>\n",
       "      <td>2116.4778</td>\n",
       "      <td>6874.3520</td>\n",
       "      <td>11290.4690</td>\n",
       "    </tr>\n",
       "    <tr>\n",
       "      <th>3</th>\n",
       "      <td>0</td>\n",
       "      <td>2303.4190</td>\n",
       "      <td>4767.0340</td>\n",
       "      <td>5968.1255</td>\n",
       "    </tr>\n",
       "    <tr>\n",
       "      <th>4</th>\n",
       "      <td>0</td>\n",
       "      <td>3040.6965</td>\n",
       "      <td>5952.8940</td>\n",
       "      <td>8998.3370</td>\n",
       "    </tr>\n",
       "    <tr>\n",
       "      <th>...</th>\n",
       "      <td>...</td>\n",
       "      <td>...</td>\n",
       "      <td>...</td>\n",
       "      <td>...</td>\n",
       "    </tr>\n",
       "    <tr>\n",
       "      <th>113142</th>\n",
       "      <td>2</td>\n",
       "      <td>10439.5330</td>\n",
       "      <td>12393.7680</td>\n",
       "      <td>2557.4683</td>\n",
       "    </tr>\n",
       "    <tr>\n",
       "      <th>113143</th>\n",
       "      <td>2</td>\n",
       "      <td>11169.7430</td>\n",
       "      <td>7868.8780</td>\n",
       "      <td>4249.2080</td>\n",
       "    </tr>\n",
       "    <tr>\n",
       "      <th>113144</th>\n",
       "      <td>2</td>\n",
       "      <td>4521.3604</td>\n",
       "      <td>3748.3545</td>\n",
       "      <td>2168.0557</td>\n",
       "    </tr>\n",
       "    <tr>\n",
       "      <th>113145</th>\n",
       "      <td>2</td>\n",
       "      <td>10365.9220</td>\n",
       "      <td>13922.3350</td>\n",
       "      <td>2842.4272</td>\n",
       "    </tr>\n",
       "    <tr>\n",
       "      <th>113146</th>\n",
       "      <td>2</td>\n",
       "      <td>5634.6150</td>\n",
       "      <td>7715.5760</td>\n",
       "      <td>2380.7380</td>\n",
       "    </tr>\n",
       "  </tbody>\n",
       "</table>\n",
       "<p>113147 rows × 4 columns</p>\n",
       "</div>"
      ],
      "text/plain": [
       "        0           1           2           3\n",
       "0       0   2121.6480   5149.5910   4332.4640\n",
       "1       0   2817.0380   6967.7876   7647.3680\n",
       "2       0   2116.4778   6874.3520  11290.4690\n",
       "3       0   2303.4190   4767.0340   5968.1255\n",
       "4       0   3040.6965   5952.8940   8998.3370\n",
       "...    ..         ...         ...         ...\n",
       "113142  2  10439.5330  12393.7680   2557.4683\n",
       "113143  2  11169.7430   7868.8780   4249.2080\n",
       "113144  2   4521.3604   3748.3545   2168.0557\n",
       "113145  2  10365.9220  13922.3350   2842.4272\n",
       "113146  2   5634.6150   7715.5760   2380.7380\n",
       "\n",
       "[113147 rows x 4 columns]"
      ]
     },
     "execution_count": 262,
     "metadata": {},
     "output_type": "execute_result"
    }
   ],
   "source": [
    "# df = pd.read_csv(self.subset_dir, header=None)\n",
    "# subset_indices = df.values.flatten().astype(int).tolist()\n",
    "testDistances = pd.read_csv(\"/home/mikylab/github/stargan/experiments/stargan_identity.bel01/test_distances300.csv\", header= None)\n",
    "testDistances#[0].values.flatten().astype(int).tolist()\n",
    "\n",
    "# \n",
    "\n",
    "# testDistances['predicted_class'] = class_predictions_test\n",
    "# testDistances.loc[(testDistances[0] == 0) & (testDistances.predicted_class == 0)].index\n",
    "\n",
    "# indices = testDistances.loc[(testDistances[0] == 0) & (testDistances.predicted_class == 0)].index\n",
    "\n",
    "\n",
    "# list(indices[0:10])\n",
    "\n",
    "# #testDistances.to_csv('/home/mikylab/github/stargan/experiments/ISIC_3624/test_subset.csv', index = False)\n",
    "# #pd.read_csv(\"/home/mikylab/github/stargan/experiments/ISIC_3624/test_subset.csv\")\n",
    "\n",
    "\n",
    "# indices"
   ]
  },
  {
   "cell_type": "code",
   "execution_count": 267,
   "metadata": {},
   "outputs": [
    {
     "data": {
      "text/plain": [
       "0.8759666628368405"
      ]
     },
     "execution_count": 267,
     "metadata": {},
     "output_type": "execute_result"
    }
   ],
   "source": [
    "\n",
    "testDistances = pd.read_csv(\"/home/mikylab/github/stargan/experiments/stargan_identity.bel01/test_distances300.csv\", header= None)\n",
    "\n",
    "testArray = np.asarray(testDistances)\n",
    "\n",
    "Y_test = testArray[:, 0]\n",
    "predicted_test = np.load('/home/mikylab/github/stargan/experiments/stargan_identity.bel01/svm_32524.npy')\n",
    "\n",
    "\n",
    "''' Calculate Correct Test Predictions'''\n",
    "class_predictions_test = np.argmax(predicted_test, axis=1)\n",
    "\n",
    "correct_test = np.sum(Y_test == class_predictions_test)\n",
    "\n",
    "correct_test/class_predictions_test.shape[0]"
   ]
  },
  {
   "cell_type": "code",
   "execution_count": 265,
   "metadata": {},
   "outputs": [
    {
     "data": {
      "text/plain": [
       "(113146, 3)"
      ]
     },
     "execution_count": 265,
     "metadata": {},
     "output_type": "execute_result"
    }
   ],
   "source": [
    "predicted_test.shape"
   ]
  },
  {
   "cell_type": "code",
   "execution_count": 269,
   "metadata": {},
   "outputs": [],
   "source": [
    "confusion_matrix_cyto = confusion_matrix(Y_test, class_predictions_test, labels=[0,1, 2])\n"
   ]
  },
  {
   "cell_type": "code",
   "execution_count": 270,
   "metadata": {},
   "outputs": [
    {
     "data": {
      "image/png": "[encoded data removed]",
      "text/plain": [
       "<Figure size 720x576 with 2 Axes>"
      ]
     },
     "metadata": {
      "needs_background": "light"
     },
     "output_type": "display_data"
    }
   ],
   "source": [
    "# Plot confusion matrix\n",
    "plt.figure(figsize=(10, 8))\n",
    "class_labels= ['Benign Single', 'Benign Histopathology', 'Malignant Histopathology']\n",
    "sns.heatmap(confusion_matrix_cyto, annot=True, cmap='Blues', fmt='g', cbar=True, xticklabels=class_labels, yticklabels=class_labels)\n",
    "plt.xlabel('Predicted')\n",
    "plt.ylabel('True')\n",
    "plt.title('3 Class, ID:0, Confusion Matrix')\n",
    "plt.show()"
   ]
  },
  {
   "cell_type": "code",
   "execution_count": 282,
   "metadata": {},
   "outputs": [
    {
     "data": {
      "image/png": "[encoded data removed]",
      "text/plain": [
       "<Figure size 720x576 with 2 Axes>"
      ]
     },
     "metadata": {
      "needs_background": "light"
     },
     "output_type": "display_data"
    }
   ],
   "source": [
    "# Calculate the sum of each row (the number of true samples for each class)\n",
    "row_sums = confusion_matrix_cyto.sum(axis=1, keepdims=True)\n",
    "\n",
    "# Normalize the confusion matrix by dividing each element by the sum of its row\n",
    "normalized_cm = confusion_matrix_cyto / row_sums\n",
    "\n",
    "\n",
    "class_labels= ['Blast', 'Erthroblast', 'Lymphocyte']\n",
    "\n",
    "# Plot normalized confusion matrix\n",
    "plt.figure(figsize=(10, 8))\n",
    "sns.heatmap(normalized_cm, annot=True, cmap='Blues', fmt='.2%', cbar=True, xticklabels=class_labels, yticklabels=class_labels, annot_kws={\"size\": 14})\n",
    "plt.xlabel('Predicted', fontsize=22)\n",
    "plt.ylabel('True', fontsize=22)\n",
    "plt.xticks(fontsize=14)\n",
    "plt.yticks(fontsize=14)\n",
    "plt.title('Confusion Matrix:\\nBone Marrow Cytology, ID:.001', fontsize=22)\n",
    "plt.show()\n"
   ]
  },
  {
   "cell_type": "code",
   "execution_count": 283,
   "metadata": {},
   "outputs": [
    {
     "data": {
      "text/plain": [
       "Index([    0,     1,     2,     3,     4,     5,     6,     7,     8,     9,\n",
       "       ...\n",
       "       69500, 69501, 69502, 69503, 69504, 69505, 69506, 69507, 69508, 69509],\n",
       "      dtype='int64', length=21094)"
      ]
     },
     "execution_count": 283,
     "metadata": {},
     "output_type": "execute_result"
    }
   ],
   "source": [
    "testDistances['predicted_class'] = class_predictions_test\n",
    "\n",
    "testDistances.loc[(testDistances[0] == 0) & (testDistances.predicted_class == 0)].index\n",
    "\n",
    "indices = testDistances.loc[(testDistances[0] == 0) & (testDistances.predicted_class == 0)].index\n",
    "\n",
    "\n",
    "indices"
   ]
  },
  {
   "cell_type": "code",
   "execution_count": 289,
   "metadata": {},
   "outputs": [
    {
     "data": {
      "text/plain": [
       "array([False, False, False, ...,  True, False,  True])"
      ]
     },
     "execution_count": 289,
     "metadata": {},
     "output_type": "execute_result"
    }
   ],
   "source": [
    "predicted_test.max(axis = 1) < .8"
   ]
  },
  {
   "cell_type": "code",
   "execution_count": 311,
   "metadata": {},
   "outputs": [
    {
     "data": {
      "text/plain": [
       "0                      1.000\n",
       "1                  21584.238\n",
       "2                  20000.602\n",
       "3                  20857.137\n",
       "predicted_class        2.000\n",
       "Name: 90191, dtype: float64"
      ]
     },
     "execution_count": 311,
     "metadata": {},
     "output_type": "execute_result"
    }
   ],
   "source": [
    "testDistances.to_csv('/home/mikylab/github/stargan/experiments/stargan_identity.bel01/test_subset.csv', index = False)\n",
    "subset_frame = pd.read_csv(\"/home/mikylab/github/stargan/experiments/stargan_identity.bel01/test_subset.csv\")\n",
    "\n",
    "filtered_df = subset_frame.loc[(subset_frame['0'] == 0) & (subset_frame['predicted_class'] == 0)]\n",
    "subset_indices = [filtered_df['1'].idxmax()]\n",
    "\n",
    "subset_frame['2'].idxmax()\n",
    "\n",
    "subset_frame.iloc[90191]\n"
   ]
  },
  {
   "cell_type": "code",
   "execution_count": 299,
   "metadata": {},
   "outputs": [
    {
     "data": {
      "text/plain": [
       "0                      0.0000\n",
       "1                   5737.5566\n",
       "2                  12122.7480\n",
       "3                   2465.7297\n",
       "predicted_class        0.0000\n",
       "Name: 5612, dtype: float64"
      ]
     },
     "execution_count": 299,
     "metadata": {},
     "output_type": "execute_result"
    }
   ],
   "source": [
    "subset_frame.iloc[5612]"
   ]
  },
  {
   "cell_type": "code",
   "execution_count": null,
   "metadata": {},
   "outputs": [],
   "source": []
  }
 ],
 "metadata": {
  "kernelspec": {
   "display_name": "Python 3",
   "language": "python",
   "name": "python3"
  },
  "language_info": {
   "codemirror_mode": {
    "name": "ipython",
    "version": 3
   },
   "file_extension": ".py",
   "mimetype": "text/x-python",
   "name": "python",
   "nbconvert_exporter": "python",
   "pygments_lexer": "ipython3",
   "version": "3.8.10"
  }
 },
 "nbformat": 4,
 "nbformat_minor": 4
}
