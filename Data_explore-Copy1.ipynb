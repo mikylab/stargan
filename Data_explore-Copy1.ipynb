{
 "cells": [
  {
   "cell_type": "code",
   "execution_count": 1,
   "metadata": {},
   "outputs": [],
   "source": [
    "import numpy as np\n",
    "import matplotlib.pyplot as plt\n",
    "import pandas as pd\n",
    "\n",
    "import sklearn\n",
    "from sklearn import metrics\n",
    "from sklearn.metrics import roc_auc_score"
   ]
  },
  {
   "cell_type": "code",
   "execution_count": 4,
   "metadata": {},
   "outputs": [
    {
     "ename": "FileNotFoundError",
     "evalue": "[Errno 2] No such file or directory: '/home/mikylab/stargan-identity/stargan_identity.cyto0/results/retest-50892-images.jpg'",
     "output_type": "error",
     "traceback": [
      "\u001b[0;31m---------------------------------------------------------------------------\u001b[0m",
      "\u001b[0;31mFileNotFoundError\u001b[0m                         Traceback (most recent call last)",
      "\u001b[0;32m<ipython-input-4-8b0d99425939>\u001b[0m in \u001b[0;36m<module>\u001b[0;34m\u001b[0m\n\u001b[1;32m     36\u001b[0m     \u001b[0;31m#image_path = data.iloc[random_index, 4]  # Assuming the image path is in the 5th column (adjust the index if different)\u001b[0m\u001b[0;34m\u001b[0m\u001b[0;34m\u001b[0m\u001b[0;34m\u001b[0m\u001b[0m\n\u001b[1;32m     37\u001b[0m     \u001b[0mimage_path\u001b[0m \u001b[0;34m=\u001b[0m \u001b[0;34m'/home/mikylab/stargan-identity/stargan_identity.cyto0/results/retest-{}-images.jpg'\u001b[0m\u001b[0;34m.\u001b[0m\u001b[0mformat\u001b[0m\u001b[0;34m(\u001b[0m\u001b[0mrandom_index\u001b[0m\u001b[0;34m)\u001b[0m\u001b[0;34m\u001b[0m\u001b[0;34m\u001b[0m\u001b[0m\n\u001b[0;32m---> 38\u001b[0;31m     \u001b[0mimage\u001b[0m \u001b[0;34m=\u001b[0m \u001b[0mImage\u001b[0m\u001b[0;34m.\u001b[0m\u001b[0mopen\u001b[0m\u001b[0;34m(\u001b[0m\u001b[0mimage_path\u001b[0m\u001b[0;34m)\u001b[0m\u001b[0;34m\u001b[0m\u001b[0;34m\u001b[0m\u001b[0m\n\u001b[0m\u001b[1;32m     39\u001b[0m     \u001b[0mplt\u001b[0m\u001b[0;34m.\u001b[0m\u001b[0mimshow\u001b[0m\u001b[0;34m(\u001b[0m\u001b[0mimage\u001b[0m\u001b[0;34m)\u001b[0m\u001b[0;34m\u001b[0m\u001b[0;34m\u001b[0m\u001b[0m\n\u001b[1;32m     40\u001b[0m \u001b[0;34m\u001b[0m\u001b[0m\n",
      "\u001b[0;32m/usr/lib/python3/dist-packages/PIL/Image.py\u001b[0m in \u001b[0;36mopen\u001b[0;34m(fp, mode)\u001b[0m\n\u001b[1;32m   2807\u001b[0m \u001b[0;34m\u001b[0m\u001b[0m\n\u001b[1;32m   2808\u001b[0m     \u001b[0;32mif\u001b[0m \u001b[0mfilename\u001b[0m\u001b[0;34m:\u001b[0m\u001b[0;34m\u001b[0m\u001b[0;34m\u001b[0m\u001b[0m\n\u001b[0;32m-> 2809\u001b[0;31m         \u001b[0mfp\u001b[0m \u001b[0;34m=\u001b[0m \u001b[0mbuiltins\u001b[0m\u001b[0;34m.\u001b[0m\u001b[0mopen\u001b[0m\u001b[0;34m(\u001b[0m\u001b[0mfilename\u001b[0m\u001b[0;34m,\u001b[0m \u001b[0;34m\"rb\"\u001b[0m\u001b[0;34m)\u001b[0m\u001b[0;34m\u001b[0m\u001b[0;34m\u001b[0m\u001b[0m\n\u001b[0m\u001b[1;32m   2810\u001b[0m         \u001b[0mexclusive_fp\u001b[0m \u001b[0;34m=\u001b[0m \u001b[0;32mTrue\u001b[0m\u001b[0;34m\u001b[0m\u001b[0;34m\u001b[0m\u001b[0m\n\u001b[1;32m   2811\u001b[0m \u001b[0;34m\u001b[0m\u001b[0m\n",
      "\u001b[0;31mFileNotFoundError\u001b[0m: [Errno 2] No such file or directory: '/home/mikylab/stargan-identity/stargan_identity.cyto0/results/retest-50892-images.jpg'"
     ]
    }
   ],
   "source": [
    "import pandas as pd\n",
    "import matplotlib.pyplot as plt\n",
    "from PIL import Image\n",
    "\n",
    "# Step 1: Read the data from the CSV file\n",
    "csv_file = \"/home/mikylab/github/stargan/experiments/stargan_identity.class6/test_distances500.csv\"\n",
    "\n",
    "data = pd.read_csv(csv_file)\n",
    "\n",
    "# Step 2: Randomly select an index\n",
    "import random\n",
    "num_rows = 10\n",
    "for _ in range(num_rows):\n",
    "    random_index = random.randint(0, len(data) - 1)\n",
    "\n",
    "    # Step 3: Get the values for the chart\n",
    "    correct_val = data.iloc[random_index, 0]\n",
    "    value1_val = round(data.iloc[random_index, 1], 2)  # Round value1 to 2 decimal places\n",
    "    value2_val = round(data.iloc[random_index, 2], 2)  # Round value2 to 2 decimal places\n",
    "    value3_val = round(data.iloc[random_index, 3], 2)  # Round value3 to 2 decimal places\n",
    "\n",
    "    if correct_val == 0:\n",
    "        correct_val = 'ART'\n",
    "    elif correct_val == 1:\n",
    "        correct_val = 'EBO'\n",
    "    else:\n",
    "        correct_val = 'EOS'\n",
    "\n",
    "    # Step 4: Create and display the chart\n",
    "    classes = ['class1', 'class2', 'class3']\n",
    "    values = [value1_val, value2_val, value3_val]\n",
    "\n",
    "\n",
    "\n",
    "    # Step 5: Display the image based on the selected index\n",
    "    #image_path = data.iloc[random_index, 4]  # Assuming the image path is in the 5th column (adjust the index if different)\n",
    "    image_path = '/home/mikylab/stargan-identity/stargan_identity.cyto0/results/retest-{}-images.jpg'.format(random_index)\n",
    "    image = Image.open(image_path)\n",
    "    plt.imshow(image)\n",
    "\n",
    "    class_text = f'Index: {random_index} Class: {correct_val}\\nART: {value1_val} EBO: {value2_val} EOS: {value3_val}'\n",
    "    plt.text(0.5, 1.05, class_text, ha='center', va='bottom', transform=plt.gca().transAxes)\n",
    "    plt.axis('off')  # Hide axis ticks and labels\n",
    "    plt.show()\n"
   ]
  },
  {
   "cell_type": "code",
   "execution_count": 5,
   "metadata": {},
   "outputs": [],
   "source": [
    "''' Read in The Distances for the Training and Test sets'''\n",
    "\n",
    "csv_train = \"/home/mikylab/github/stargan/experiments/stargan_identity.class6/train_distances500.csv\"\n",
    "csv_test = \"/home/mikylab/github/stargan/experiments/stargan_identity.class6/test_distances500.csv\"\n",
    "\n",
    "\n",
    "trainDistances = pd.read_csv(csv_train)\n",
    "trainArray = np.asarray(trainDistances)\n",
    "\n",
    "testDistances = pd.read_csv(csv_test)\n",
    "testArray = np.asarray(testDistances)\n",
    "\n",
    "Y_train = trainArray[:, 0]\n",
    "predicted_train = np.load(\"/home/mikylab/github/stargan/experiments/stargan_identity.bel01/predicted_beltest_lin.npy\")\n",
    "\n",
    "\n",
    "''' Calculate Correct Test Predictions'''\n",
    "class_predictions_test = np.argmax(predicted_train, axis=1)\n",
    "\n",
    "correct_test = np.sum(Y_train == class_predictions_test)\n",
    "\n",
    "correct_test/class_predictions_test.shape[0]"
   ]
  },
  {
   "cell_type": "code",
   "execution_count": 13,
   "metadata": {
    "scrolled": false
   },
   "outputs": [
    {
     "data": {
      "text/plain": [
       "0.814120941396093"
      ]
     },
     "execution_count": 13,
     "metadata": {},
     "output_type": "execute_result"
    }
   ],
   "source": [
    "\n"
   ]
  },
  {
   "cell_type": "code",
   "execution_count": null,
   "metadata": {},
   "outputs": [],
   "source": []
  },
  {
   "cell_type": "code",
   "execution_count": 73,
   "metadata": {},
   "outputs": [
    {
     "data": {
      "text/plain": [
       "0.8285912560721721"
      ]
     },
     "execution_count": 73,
     "metadata": {},
     "output_type": "execute_result"
    }
   ],
   "source": [
    "0.8285912560721721"
   ]
  },
  {
   "cell_type": "code",
   "execution_count": 85,
   "metadata": {},
   "outputs": [
    {
     "data": {
      "text/plain": [
       "(2882, 3)"
      ]
     },
     "execution_count": 85,
     "metadata": {},
     "output_type": "execute_result"
    }
   ],
   "source": [
    "predicted_train.shape"
   ]
  },
  {
   "cell_type": "code",
   "execution_count": 54,
   "metadata": {},
   "outputs": [
    {
     "data": {
      "text/plain": [
       "True"
      ]
     },
     "execution_count": 54,
     "metadata": {},
     "output_type": "execute_result"
    }
   ],
   "source": [
    "(Y_train == class_predictions_test)[]"
   ]
  },
  {
   "cell_type": "code",
   "execution_count": 3,
   "metadata": {},
   "outputs": [],
   "source": [
    "''' Load the Polynomial predictions '''\n",
    "predicted_train = np.load(\"predicted_train_poly.npy\")\n",
    "\n",
    "predicted_test = np.load(\"predicted_test_poly.npy\")"
   ]
  },
  {
   "cell_type": "code",
   "execution_count": 31,
   "metadata": {
    "scrolled": true
   },
   "outputs": [
    {
     "data": {
      "text/plain": [
       "0.645933014354067"
      ]
     },
     "execution_count": 31,
     "metadata": {},
     "output_type": "execute_result"
    }
   ],
   "source": [
    "''' Calculate Correct Test Predictions'''\n",
    "class_predictions_test = np.argmax(predicted_test, axis=1)\n",
    "\n",
    "correct_test = np.sum(Y == class_predictions_test)\n",
    "\n",
    "correct_test/class_predictions_test.shape[0]"
   ]
  },
  {
   "cell_type": "code",
   "execution_count": 5,
   "metadata": {},
   "outputs": [
    {
     "data": {
      "text/plain": [
       "(209, 8)"
      ]
     },
     "execution_count": 5,
     "metadata": {},
     "output_type": "execute_result"
    }
   ],
   "source": [
    "testArray.shape"
   ]
  },
  {
   "cell_type": "code",
   "execution_count": null,
   "metadata": {},
   "outputs": [],
   "source": [
    "angry_images = trainArray[trainArray[:,0]== 0]\n",
    "disgust_images = trainArray[trainArray[:,0]== 1]\n",
    "fear_images = trainArray[trainArray[:,0]== 2]\n",
    "happy_images = trainArray[trainArray[:,0]== 3]\n",
    "neutral_images = trainArray[trainArray[:,0]== 4]\n",
    "sad_images = trainArray[trainArray[:,0]== 5]\n",
    "surprise_images = trainArray[trainArray[:,0]== 6]"
   ]
  },
  {
   "cell_type": "code",
   "execution_count": 27,
   "metadata": {},
   "outputs": [
    {
     "data": {
      "text/plain": [
       "0.3584528176058686"
      ]
     },
     "execution_count": 27,
     "metadata": {},
     "output_type": "execute_result"
    }
   ],
   "source": [
    "''' Calculate Correct Train Predictions'''\n",
    "\n",
    "class_predictions_train = np.argmax(predicted_train, axis=1)\n",
    "\n",
    "correct = np.sum(Y_train == class_predictions_train)\n",
    "\n",
    "correct/class_predictions_train.shape[0]"
   ]
  },
  {
   "cell_type": "code",
   "execution_count": null,
   "metadata": {},
   "outputs": [],
   "source": [
    "# angry  disgust  fear  happy  neutral  sad  surprise"
   ]
  },
  {
   "cell_type": "code",
   "execution_count": null,
   "metadata": {},
   "outputs": [],
   "source": [
    "angry_images[0]"
   ]
  },
  {
   "cell_type": "code",
   "execution_count": null,
   "metadata": {
    "scrolled": true
   },
   "outputs": [],
   "source": [
    "''' Scatter Plots in 2d'''\n",
    "plt.scatter(angry_images[:, 1], angry_images[:, 2], alpha = .05, label = \"Angry\")\n",
    "plt.scatter(disgust_images[:, 1], disgust_images[:, 2], alpha = .1, label = \"Disgust\")\n",
    "\n",
    "plt.xlabel(\"Angry Expression\")\n",
    "plt.ylabel(\"Disgust Expression\")\n",
    "plt.legend()"
   ]
  },
  {
   "cell_type": "code",
   "execution_count": null,
   "metadata": {},
   "outputs": [],
   "source": [
    "''' Scatter Plots in 2d'''\n",
    "plt.scatter(angry_images[:, 1], angry_images[:, 2], alpha = .05, label = \"Disgust\")\n",
    "plt.scatter(disgust_images[:, 1], disgust_images[:, 2], alpha = .1, label = \"Fear\")\n",
    "#plt.scatter(angry_images[:, 1], angry_images[:, 4], alpha = .05, label = \"Happy\")\n",
    "#plt.scatter(angry_images[:, 1], angry_images[:, 5], alpha = .05, label = \"Neutral\")\n",
    "#plt.scatter(angry_images[:, 1], angry_images[:, 6], alpha = .05, label = \"Sad\")\n",
    "#plt.scatter(angry_images[:, 1], angry_images[:, 7], alpha = .05, label = \"Surprise\")\n",
    "\n",
    "\n",
    "#Benign Images -> Benign & Maligant\n",
    "#Maligant Images -> Benign & Malignant\n",
    "\n",
    "plt.xlabel(\"Distance to Angry\")\n",
    "plt.ylabel(\"Distance to Other Expression\")\n",
    "plt.legend()"
   ]
  },
  {
   "cell_type": "code",
   "execution_count": null,
   "metadata": {},
   "outputs": [],
   "source": [
    "import matplotlib.pyplot as plt\n",
    "import numpy as np\n",
    "\n",
    "# Set the size of the figure\n",
    "plt.figure(figsize=(8, 8))\n",
    "\n",
    "# Load the data from the CSV file as a NumPy array\n",
    "arr = np.genfromtxt(\"testDistances.csv\", delimiter=\",\")\n",
    "\n",
    "# Set the labels for the different emotions\n",
    "labels = [\"Angry\", \"Disgust\", \"Fear\", \"Happy\", \"Neutral\", \"Sad\", \"Surprise\"]\n",
    "\n",
    "# Loop over the columns of the array\n",
    "for i in range(1, arr.shape[1]):\n",
    "    # Get the x and y values for the plot\n",
    "    x = arr[:, 0]\n",
    "    y = arr[:, i]\n",
    "\n",
    "    # Plot the column against the first column\n",
    "    plt.scatter(x, y, label=labels[i-1])\n",
    "\n",
    "# Add a legend to the plot\n",
    "plt.legend()\n",
    "\n",
    "# Set the x-axis labels to the labels for the emotions\n",
    "plt.xticks(np.arange(7), labels)\n",
    "\n",
    "# Show the plot\n",
    "plt.show()\n"
   ]
  },
  {
   "cell_type": "code",
   "execution_count": null,
   "metadata": {},
   "outputs": [],
   "source": [
    "fig, ((ax1, ax2), (ax3, ax4), (ax5, ax6)) = plt.subplots(3, 2, figsize=(10, 10), sharex = True, sharey = True)\n",
    "ax1.scatter(angry_images[:, 1], angry_images[:, 2], alpha = .05, label = \"Angry\", c = 'darkgray')\n",
    "ax1.scatter(disgust_images[:, 1], disgust_images[:, 2], alpha = .1, label = \"Disgust\", c = 'green')\n",
    "ax1.set_xlabel(\"Angry Expression\")\n",
    "ax1.set_ylabel(\"Disgust Expression\")\n",
    "\n",
    "ax2.scatter(angry_images[:, 1], angry_images[:, 3], alpha = .05, label = \"Angry\", c = 'darkgrey')\n",
    "ax2.scatter(fear_images[:, 1], fear_images[:, 3], alpha = .01, label = \"Fear\", c = 'purple')\n",
    "ax2.set_xlabel(\"Angry Expression\")\n",
    "ax2.set_ylabel(\"Fear Expression\")\n",
    "\n",
    "\n",
    "ax3.scatter(angry_images[:, 1], angry_images[:, 4], alpha = .05, label = \"Angry\", c = 'darkgrey')\n",
    "ax3.scatter(happy_images[:, 1], happy_images[:, 4], alpha = .01, label = \"Happy\", c = 'orange')\n",
    "ax3.set_xlabel(\"Angry Expression\")\n",
    "ax3.set_ylabel(\"Happy Expression\")\n",
    "\n",
    "\n",
    "ax4.scatter(angry_images[:, 1], angry_images[:, 5], alpha = .05, label = \"Angry\", c = 'darkgrey')\n",
    "ax4.scatter(neutral_images[:, 1], neutral_images[:, 5], alpha = .01, label = \"Neutral\", c = 'brown')\n",
    "ax4.set_xlabel(\"Angry Expression\")\n",
    "ax4.set_ylabel(\"Neutral Expression\")\n",
    "\n",
    "ax5.scatter(angry_images[:, 1], angry_images[:, 6], alpha = .05, label = \"Angry\", c = 'darkgrey')\n",
    "ax5.scatter(sad_images[:, 1], sad_images[:, 6], alpha = .01, label = \"Sad\", c = 'blue')\n",
    "ax5.set_xlabel(\"Angry Expression\")\n",
    "ax5.set_ylabel(\"Sad Expression\")\n",
    "\n",
    "ax6.scatter(angry_images[:, 1], angry_images[:, 7], alpha = .05, label = \"Angry\", c = 'darkgrey')\n",
    "ax6.scatter(surprise_images[:, 1], surprise_images[:, 6], alpha = .01, label = \"Sad\", c = 'fuchsia')\n",
    "ax6.set_xlabel(\"Angry Expression\")\n",
    "ax6.set_ylabel(\"Surprise Expression\")\n",
    "\n",
    "fig.tight_layout()"
   ]
  },
  {
   "cell_type": "code",
   "execution_count": null,
   "metadata": {},
   "outputs": [],
   "source": [
    "# Plot a hexbin plot of the data. Use for larger image samples. \n",
    "\n",
    "x1 = angry_images[:, 1]\n",
    "y1 = angry_images[:, 2]\n",
    "\n",
    "x2 = happy_images[:, 1]\n",
    "y2 = happy_images[:, 2]\n",
    "\n",
    "# Define hexbin grid extent\n",
    "xmin = min(*x1, *x2)\n",
    "xmax = max(*x1, *x2)\n",
    "ymin = min(*y1, *y2)\n",
    "ymax = max(*y1, *y2)\n",
    "ext = (xmin, xmax, ymin, ymax)\n",
    "\n",
    "# Draw figure with colorbars\n",
    "plt.figure(figsize=(10, 6))\n",
    "hist1 = plt.hexbin(x1, y1, gridsize=30, cmap='Blues', mincnt=1, alpha=0.2, extent=ext)\n",
    "hist2 = plt.hexbin(x2, y2, gridsize=30, cmap='Reds', mincnt=1, alpha=.1, extent=ext)\n",
    "\n",
    "\n",
    "\n",
    "clb2 = plt.colorbar(hist2, orientation='vertical')\n",
    "clb1 = plt.colorbar(hist1, orientation='vertical')\n",
    "\n",
    "# Set titles \n",
    "clb1.ax.set_title('Benign Test Images',fontsize=10)\n",
    "clb2.ax.set_title('Malignant Test Images',fontsize=10)\n",
    "plt.title(\"L1 Distances\")\n",
    "plt.xlabel(\"L1 Distance to Benign\")\n",
    "plt.ylabel(\"L1 Distance to Malignant\")\n",
    "\n",
    "plt.show()"
   ]
  },
  {
   "cell_type": "code",
   "execution_count": null,
   "metadata": {},
   "outputs": [],
   "source": [
    "def comparison_plots(comparison_images, i, label, alpha1 = .05):\n",
    "    fig, ((ax1, ax2), (ax3, ax4), (ax5, ax6), (ax7, ax8)) = plt.subplots(4, 2, figsize=(10, 10), sharex = True, sharey = True)\n",
    "    ax1.scatter(comparison_images[:, i], comparison_images[:, 1], alpha = alpha1, label = label, c = 'darkgray')\n",
    "    ax1.scatter(angry_images[:, i], angry_images[:, 1], alpha = .01, label = \"Angry\", c = 'green')\n",
    "    ax1.set_xlabel(label + \" Expression\")\n",
    "    ax1.set_ylabel(\"Angry Expression\")\n",
    "    \n",
    "    ax2.scatter(comparison_images[:, i], comparison_images[:, 2], alpha = alpha1, label = label, c = 'darkgrey')\n",
    "    ax2.scatter(disgust_images[:, i], disgust_images[:, 2], alpha = .1, label = \"Disgust\", c = 'teal')\n",
    "    ax2.set_xlabel(label + \" Expression\")\n",
    "    ax2.set_ylabel(\"Disgust Expression\")\n",
    "\n",
    "    ax3.scatter(comparison_images[:, i], comparison_images[:, 3], alpha = alpha1, label = label, c = 'darkgrey')\n",
    "    ax3.scatter(fear_images[:, i], fear_images[:, 3], alpha = .01, label = \"Fear\", c = 'purple')\n",
    "    ax3.set_xlabel(label+ \" Expression\")\n",
    "    ax3.set_ylabel(\"Fear Expression\")\n",
    "\n",
    "\n",
    "    ax4.scatter(comparison_images[:, i], comparison_images[:, 4], alpha = alpha1, label = label, c = 'darkgrey')\n",
    "    ax4.scatter(happy_images[:, i], happy_images[:, 4], alpha = .01, label = \"Happy\", c = 'orange')\n",
    "    ax4.set_xlabel(label +\" Expression\")\n",
    "    ax4.set_ylabel(\"Happy Expression\")\n",
    "\n",
    "\n",
    "    ax5.scatter(comparison_images[:, i], comparison_images[:, 5], alpha = alpha1, label = label, c = 'darkgrey')\n",
    "    ax5.scatter(neutral_images[:, i], neutral_images[:, 5], alpha = .01, label = \"Neutral\", c = 'brown')\n",
    "    ax5.set_xlabel(label + \" Expression\")\n",
    "    ax5.set_ylabel(\"Neutral Expression\")\n",
    "\n",
    "    ax6.scatter(comparison_images[:, i], comparison_images[:, 6], alpha = alpha1, label = label, c = 'darkgrey')\n",
    "    ax6.scatter(sad_images[:, i], sad_images[:, 6], alpha = .01, label = \"Sad\", c = 'blue')\n",
    "    ax6.set_xlabel(label + \" Expression\")\n",
    "    ax6.set_ylabel(\"Sad Expression\")\n",
    "\n",
    "    ax7.scatter(comparison_images[:, i], comparison_images[:, 7], alpha = alpha1, label = label, c = 'darkgrey')\n",
    "    ax7.scatter(surprise_images[:, i], surprise_images[:, 7], alpha = .01, label = \"Sad\", c = 'fuchsia')\n",
    "    ax7.set_xlabel(label + \" Expression\")\n",
    "    ax7.set_ylabel(\"Surprise Expression\")\n",
    "\n",
    "    fig.tight_layout()\n",
    "    ax1.legend()\n",
    "    ax2.legend()\n",
    "    ax3.legend()\n",
    "    ax4.legend()\n",
    "    ax5.legend()\n",
    "    ax6.legend()\n",
    "    ax7.legend()"
   ]
  },
  {
   "cell_type": "code",
   "execution_count": null,
   "metadata": {},
   "outputs": [],
   "source": [
    "comparison_plots(disgust_images, 1, \"Angry\")"
   ]
  },
  {
   "cell_type": "code",
   "execution_count": null,
   "metadata": {},
   "outputs": [],
   "source": [
    "#plt.scatter(np.arange(0,7), predicted_train[0], label = '1')\n",
    "plt.title(\"Image 3 probabilities for each class\")\n",
    "#plt.scatter(np.arange(0,7), predicted_train[1], label = '2')\n",
    "plt.scatter(np.arange(0,7), predicted_train[2], label = '3')\n",
    "# plt.scatter(np.arange(0,7), predicted_train[3], label = '4')\n",
    "# plt.scatter(np.arange(0,7), predicted_train[4], label = '5')\n",
    "# plt.scatter(np.arange(0,7), predicted_train[5], label = '6')\n",
    "# plt.scatter(np.arange(0,7), predicted_train[6], label = '7')\n",
    "# plt.scatter(np.arange(0,7), predicted_train[7], label = '8')\n",
    "# plt.scatter(np.arange(0,7), predicted_train[8], label = '9')\n",
    "plt.legend()\n",
    "\n",
    "# plt.plot(np.arange(0,7), predicted_train[0], label = '1')\n",
    "# plt.plot(np.arange(0,7), predicted_train[1], label = '2')\n",
    "# plt.plot(np.arange(0,7), predicted_train[2], label = '3')\n",
    "# plt.plot(np.arange(0,7), predicted_train[3], label = '4')\n",
    "# plt.plot(np.arange(0,7), predicted_train[4], label = '5')\n",
    "# plt.plot(np.arange(0,7), predicted_train[5], label = '6')\n",
    "# plt.plot(np.arange(0,7), predicted_train[6], label = '7')\n",
    "# plt.plot(np.arange(0,7), predicted_train[7], label = '8')\n",
    "# plt.plot(np.arange(0,7), predicted_train[8], label = '9')\n",
    "# plt.legend()"
   ]
  },
  {
   "cell_type": "code",
   "execution_count": null,
   "metadata": {},
   "outputs": [],
   "source": [
    "plt.scatter(np.arange(0,7), predicted_train[9])\n",
    "plt.scatter(np.arange(0,7), predicted_train[10])\n",
    "plt.scatter(np.arange(0,7), predicted_train[11])\n",
    "plt.scatter(np.arange(0,7), predicted_train[12])\n",
    "plt.scatter(np.arange(0,7), predicted_train[13])\n",
    "plt.scatter(np.arange(0,7), predicted_train[14])\n",
    "plt.scatter(np.arange(0,7), predicted_train[15])\n",
    "plt.scatter(np.arange(0,7), predicted_train[16])"
   ]
  },
  {
   "cell_type": "code",
   "execution_count": null,
   "metadata": {},
   "outputs": [],
   "source": [
    "Y_train[0]"
   ]
  },
  {
   "cell_type": "code",
   "execution_count": null,
   "metadata": {},
   "outputs": [],
   "source": []
  }
 ],
 "metadata": {
  "kernelspec": {
   "display_name": "Python 3",
   "language": "python",
   "name": "python3"
  },
  "language_info": {
   "codemirror_mode": {
    "name": "ipython",
    "version": 3
   },
   "file_extension": ".py",
   "mimetype": "text/x-python",
   "name": "python",
   "nbconvert_exporter": "python",
   "pygments_lexer": "ipython3",
   "version": "3.8.10"
  }
 },
 "nbformat": 4,
 "nbformat_minor": 4
}
