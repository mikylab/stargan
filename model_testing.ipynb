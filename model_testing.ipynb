{
 "cells": [
  {
   "cell_type": "code",
   "execution_count": 2,
   "metadata": {},
   "outputs": [],
   "source": [
    "import numpy as np\n",
    "import pandas as pd\n",
    "import seaborn as sns\n",
    "import matplotlib.pyplot as plt\n",
    "from sklearn.metrics import confusion_matrix\n",
    "from sklearn import linear_model\n",
    "from sklearn.neural_network import MLPClassifier\n",
    "from sklearn.linear_model import LogisticRegression\n",
    "from sklearn import svm\n"
   ]
  },
  {
   "cell_type": "code",
   "execution_count": 3,
   "metadata": {},
   "outputs": [],
   "source": [
    "def normalizeData(dataMatrix):\n",
    "    distance_mean = np.mean(dataMatrix)\n",
    "    distance_sd = np.std(dataMatrix)\n",
    "    mean_zero = (dataMatrix-distance_mean)/distance_sd\n",
    "    return mean_zero\n"
   ]
  },
  {
   "cell_type": "code",
   "execution_count": 4,
   "metadata": {},
   "outputs": [],
   "source": [
    "def standardize(X, mean, stds):\n",
    "    return (X - mean)/stds"
   ]
  },
  {
   "cell_type": "code",
   "execution_count": 5,
   "metadata": {},
   "outputs": [],
   "source": [
    "def accuracy(truth, predict):\n",
    "    return (np.sum(truth == predict))/truth.shape[0]"
   ]
  },
  {
   "cell_type": "code",
   "execution_count": 6,
   "metadata": {},
   "outputs": [],
   "source": [
    "def makeIndicatorVars(T):\n",
    "    # Make sure T is two-dimensional. Should be nSamples x 1.\n",
    "    if T.ndim == 1:\n",
    "        T = T.reshape((-1, 1))    \n",
    "    return (T == np.unique(T)).astype(int)\n",
    "\n",
    "def softmax(X, w):\n",
    "    fs = np.exp(X @ w)  # N x K\n",
    "    denom = np.sum(fs, axis=1).reshape((-1, 1))\n",
    "    gs = fs / denom\n",
    "    return gs\n",
    "\n",
    "def percentCorrect(p, t):\n",
    "    return np.sum(p.ravel()==t.ravel()) / float(len(t)) * 100"
   ]
  },
  {
   "cell_type": "code",
   "execution_count": 7,
   "metadata": {},
   "outputs": [],
   "source": [
    "#svm100 = pd.read_csv('svm100_42624.csv')\n",
    "# svm300 = pd.read_csv('experiments/CYTO_/svm300.csv')"
   ]
  },
  {
   "cell_type": "code",
   "execution_count": 8,
   "metadata": {},
   "outputs": [
    {
     "data": {
      "text/plain": [
       "(84657, 7)"
      ]
     },
     "execution_count": 8,
     "metadata": {},
     "output_type": "execute_result"
    }
   ],
   "source": [
    "trainDistances = pd.read_csv('experiments/stargan_identity.class6/retrain_distances500.csv', header = None)\n",
    "testDistances = pd.read_csv('experiments/stargan_identity.class6/retest_distances500.csv', header = None)\n",
    "testDistances.shape\n",
    "\n",
    "# trainDistances = pd.read_csv('experiments/stargan_identity.bel01/train_distances400.csv', header = None)\n",
    "# testDistances = pd.read_csv('experiments/stargan_identity.bel01/test_distances400.csv', header = None)\n",
    "\n"
   ]
  },
  {
   "cell_type": "code",
   "execution_count": 9,
   "metadata": {},
   "outputs": [],
   "source": [
    "df = pd.DataFrame(columns=['Model', 'Training Acc', 'Testing Acc'])\n"
   ]
  },
  {
   "cell_type": "code",
   "execution_count": 10,
   "metadata": {},
   "outputs": [],
   "source": [
    "'''\n",
    "Standardize the data so that it can be read in and used for the models.\n",
    "'''\n",
    "trainArray = np.asarray(trainDistances)\n",
    "trainMatrix = trainArray[:, 1:7]\n",
    "\n",
    "X_train = normalizeData(trainMatrix)\n",
    "Y_train = trainArray[:, 0]\n",
    "\n",
    "testArray = np.asarray(testDistances)\n",
    "testMatrix = testArray[:, 1:7]\n",
    "\n",
    "\n",
    "X_test = normalizeData(testMatrix)\n",
    "Y_test = testArray[:, 0]"
   ]
  },
  {
   "cell_type": "code",
   "execution_count": 11,
   "metadata": {},
   "outputs": [],
   "source": [
    "''' Smallest Translation Distance'''\n",
    "min_x_train = X_train.argmin(axis = 1)\n",
    "min_x_test = X_test.argmin(axis = 1)\n",
    "\n",
    "tl_train_acc = accuracy(Y_train, min_x_train)\n",
    "tl_acc = accuracy(Y_test, min_x_test)\n",
    "\n",
    "df = df._append({'Model': 'Translation Distance', 'Training Acc': tl_train_acc, 'Testing Acc': tl_acc}, ignore_index=True)\n"
   ]
  },
  {
   "cell_type": "code",
   "execution_count": 12,
   "metadata": {},
   "outputs": [
    {
     "data": {
      "text/html": [
       "<div>\n",
       "<style scoped>\n",
       "    .dataframe tbody tr th:only-of-type {\n",
       "        vertical-align: middle;\n",
       "    }\n",
       "\n",
       "    .dataframe tbody tr th {\n",
       "        vertical-align: top;\n",
       "    }\n",
       "\n",
       "    .dataframe thead th {\n",
       "        text-align: right;\n",
       "    }\n",
       "</style>\n",
       "<table border=\"1\" class=\"dataframe\">\n",
       "  <thead>\n",
       "    <tr style=\"text-align: right;\">\n",
       "      <th></th>\n",
       "      <th>Model</th>\n",
       "      <th>Training Acc</th>\n",
       "      <th>Testing Acc</th>\n",
       "    </tr>\n",
       "  </thead>\n",
       "  <tbody>\n",
       "    <tr>\n",
       "      <th>0</th>\n",
       "      <td>Translation Distance</td>\n",
       "      <td>0.9103</td>\n",
       "      <td>0.90067</td>\n",
       "    </tr>\n",
       "  </tbody>\n",
       "</table>\n",
       "</div>"
      ],
      "text/plain": [
       "                  Model  Training Acc  Testing Acc\n",
       "0  Translation Distance        0.9103      0.90067"
      ]
     },
     "execution_count": 12,
     "metadata": {},
     "output_type": "execute_result"
    }
   ],
   "source": [
    "df"
   ]
  },
  {
   "cell_type": "code",
   "execution_count": 12,
   "metadata": {},
   "outputs": [
    {
     "name": "stderr",
     "output_type": "stream",
     "text": [
      "/home/mikylab/.local/lib/python3.8/site-packages/sklearn/neural_network/_multilayer_perceptron.py:559: ConvergenceWarning: lbfgs failed to converge (status=1):\n",
      "STOP: TOTAL NO. of ITERATIONS REACHED LIMIT.\n",
      "\n",
      "Increase the number of iterations (max_iter) or scale the data as shown in:\n",
      "    https://scikit-learn.org/stable/modules/preprocessing.html\n",
      "  self.n_iter_ = _check_optimize_result(\"lbfgs\", opt_res, self.max_iter)\n"
     ]
    }
   ],
   "source": [
    "''' Multilayer Perceptron'''\n",
    "mlp_model = MLPClassifier(solver='lbfgs', alpha=1e-5,\n",
    "                    hidden_layer_sizes=(5, 2), random_state=1)\n",
    "mlp_model.fit(X_train, Y_train)\n",
    "mlp_train = mlp_model.predict(X_train)\n",
    "mlp_pred = mlp_model.predict(X_test)\n",
    "\n",
    "mlp_train_acc = accuracy(Y_train, mlp_train)\n",
    "mlp_test_acc = accuracy(Y_test, mlp_pred)\n"
   ]
  },
  {
   "cell_type": "code",
   "execution_count": 13,
   "metadata": {},
   "outputs": [
    {
     "name": "stdout",
     "output_type": "stream",
     "text": [
      "0.8844666666666666\n",
      "0.8854672383854849\n"
     ]
    }
   ],
   "source": [
    "print(accuracy(Y_train, mlp_train))\n",
    "print(accuracy(Y_test, mlp_pred))"
   ]
  },
  {
   "cell_type": "code",
   "execution_count": 14,
   "metadata": {},
   "outputs": [
    {
     "data": {
      "text/html": [
       "<div>\n",
       "<style scoped>\n",
       "    .dataframe tbody tr th:only-of-type {\n",
       "        vertical-align: middle;\n",
       "    }\n",
       "\n",
       "    .dataframe tbody tr th {\n",
       "        vertical-align: top;\n",
       "    }\n",
       "\n",
       "    .dataframe thead th {\n",
       "        text-align: right;\n",
       "    }\n",
       "</style>\n",
       "<table border=\"1\" class=\"dataframe\">\n",
       "  <thead>\n",
       "    <tr style=\"text-align: right;\">\n",
       "      <th></th>\n",
       "      <th>Model</th>\n",
       "      <th>Training Acc</th>\n",
       "      <th>Testing Acc</th>\n",
       "    </tr>\n",
       "  </thead>\n",
       "  <tbody>\n",
       "    <tr>\n",
       "      <th>0</th>\n",
       "      <td>Translation Distance</td>\n",
       "      <td>0.910300</td>\n",
       "      <td>0.900670</td>\n",
       "    </tr>\n",
       "    <tr>\n",
       "      <th>1</th>\n",
       "      <td>MLP</td>\n",
       "      <td>0.884467</td>\n",
       "      <td>0.885467</td>\n",
       "    </tr>\n",
       "  </tbody>\n",
       "</table>\n",
       "</div>"
      ],
      "text/plain": [
       "                  Model  Training Acc  Testing Acc\n",
       "0  Translation Distance      0.910300     0.900670\n",
       "1                   MLP      0.884467     0.885467"
      ]
     },
     "execution_count": 14,
     "metadata": {},
     "output_type": "execute_result"
    }
   ],
   "source": [
    "df._append({'Model': 'MLP', 'Training Acc': mlp_train_acc, 'Testing Acc': mlp_test_acc}, ignore_index=True)\n"
   ]
  },
  {
   "cell_type": "code",
   "execution_count": 15,
   "metadata": {},
   "outputs": [
    {
     "name": "stderr",
     "output_type": "stream",
     "text": [
      "/home/mikylab/.local/lib/python3.8/site-packages/sklearn/linear_model/_logistic.py:444: ConvergenceWarning: lbfgs failed to converge (status=1):\n",
      "STOP: TOTAL NO. of ITERATIONS REACHED LIMIT.\n",
      "\n",
      "Increase the number of iterations (max_iter) or scale the data as shown in:\n",
      "    https://scikit-learn.org/stable/modules/preprocessing.html\n",
      "Please also refer to the documentation for alternative solver options:\n",
      "    https://scikit-learn.org/stable/modules/linear_model.html#logistic-regression\n",
      "  n_iter_i = _check_optimize_result(\n"
     ]
    }
   ],
   "source": [
    "''' Logistic Regression'''\n",
    "clf_model = LogisticRegression(random_state=0).fit(X_train, Y_train)\n",
    "clf_train = clf_model.predict(X_train)\n",
    "clf_pred = clf_model.predict(X_test)\n",
    "\n",
    "clf_train_acc = accuracy(Y_train, clf_train)\n",
    "clf_test_acc = accuracy(Y_test, clf_pred)\n",
    "\n",
    "\n",
    "df = df._append({'Model': 'Logistic Regression', 'Training Acc': clf_train_acc, 'Testing Acc': clf_test_acc}, ignore_index=True)\n",
    "\n"
   ]
  },
  {
   "cell_type": "code",
   "execution_count": 16,
   "metadata": {},
   "outputs": [],
   "source": [
    "''' SVM Model: Poly Kernel'''\n",
    "svm_poly_model = svm.SVC(kernel=\"poly\", degree=3, gamma=\"auto\", C=1.0, probability = True)\n",
    "svm_poly_model.fit(X_train, Y_train)\n",
    "svm_poly_train = svm_poly_model.predict(X_train)\n",
    "svm_poly_pred = svm_poly_model.predict(X_test)\n",
    "\n",
    "poly_train_acc = accuracy(Y_train, svm_poly_train)\n",
    "poly_acc = accuracy(Y_test, svm_poly_pred)\n",
    "\n",
    "\n",
    "df = df._append({'Model': 'SVM Poly Kernel', 'Training Acc': poly_train_acc, 'Testing Acc': poly_acc}, ignore_index=True)\n"
   ]
  },
  {
   "cell_type": "code",
   "execution_count": 17,
   "metadata": {},
   "outputs": [],
   "source": [
    "''' SVM Model: RBF Kernel'''\n",
    "svm_rbf_model = svm.SVC(kernel=\"rbf\", gamma=0.7, C=1.0)\n",
    "svm_rbf_model.fit(X_train, Y_train)\n",
    "svm_rbf_train = svm_rbf_model.predict(X_train)\n",
    "svm_rbf_pred = svm_rbf_model.predict(X_test)\n",
    "\n",
    "rbf_train_acc = accuracy(Y_train, svm_rbf_train)\n",
    "rbf_acc = accuracy(Y_test, svm_rbf_pred)\n",
    "\n",
    "df = df._append({'Model': 'SVM RBF Kernel', 'Training Acc': rbf_train_acc, 'Testing Acc': rbf_acc}, ignore_index=True)\n"
   ]
  },
  {
   "cell_type": "code",
   "execution_count": 18,
   "metadata": {},
   "outputs": [],
   "source": [
    "''' SVM Model: Linear Kernel'''\n",
    "svm_lin_model= svm.SVC(kernel=\"linear\", probability = True, random_state = 316)\n",
    "svm_lin_model.fit(X_train, Y_train)\n",
    "svm_lin_train = svm_lin_model.predict(X_train)\n",
    "svm_lin_pred = svm_lin_model.predict(X_test)\n",
    "\n",
    "lin_train_acc = accuracy(Y_train, svm_lin_train)\n",
    "lin_acc = accuracy(Y_test, svm_lin_pred)\n",
    "\n",
    "df = df._append({'Model': 'SVM Linear Kernel', 'Training Acc': lin_train_acc, 'Testing Acc': lin_acc}, ignore_index=True)\n"
   ]
  },
  {
   "cell_type": "code",
   "execution_count": 19,
   "metadata": {},
   "outputs": [
    {
     "name": "stdout",
     "output_type": "stream",
     "text": [
      "LogReg: Percent correct: Train 91.9 Test 92\n"
     ]
    },
    {
     "data": {
      "image/png": "[encoded data removed]",
      "text/plain": [
       "<Figure size 1080x576 with 1 Axes>"
      ]
     },
     "metadata": {
      "needs_background": "light"
     },
     "output_type": "display_data"
    }
   ],
   "source": [
    "Xtrains1 = np.hstack((np.ones((X_train.shape[0], 1)), X_train))\n",
    "Xtests1 = np.hstack((np.ones((X_test.shape[0], 1)), X_test))\n",
    "\n",
    "# New stuff for linear logistic regression\n",
    "\n",
    "TtrainI = makeIndicatorVars(Y_train)\n",
    "TtestI = makeIndicatorVars(Y_test)\n",
    "\n",
    "w = np.zeros((Xtrains1.shape[1], TtrainI.shape[1]))\n",
    "likelihood = []\n",
    "alpha = 0.0001\n",
    "for step in range(10000):\n",
    "    # forward pass\n",
    "    gs = softmax(Xtrains1, w)\n",
    "    # backward pass and weight update\n",
    "    w = w + alpha * Xtrains1.T @ (TtrainI - gs)\n",
    "    # convert log likelihood to likelihood\n",
    "    likelihoodPerSample = np.exp( np.sum(TtrainI * np.log(gs)) / X_train.shape[0])\n",
    "    likelihood.append(likelihoodPerSample)\n",
    "\n",
    "plt.figure(figsize=(15, 8))\n",
    "plt.subplot2grid((1, 4), (0, 0))\n",
    "plt.plot(likelihood)\n",
    "plt.ylabel('Likelihood')\n",
    "plt.xlabel('Epoch')\n",
    "\n",
    "logregOutput = softmax(Xtrains1, w)\n",
    "predictedTrain = np.argmax(logregOutput, axis=1)\n",
    "logregOutput = softmax(Xtests1, w)\n",
    "predictedTestLR = np.argmax(logregOutput, axis=1)\n",
    "\n",
    "LogReg_train = percentCorrect(predictedTrain, Y_train)\n",
    "LogReg_acc = percentCorrect(predictedTestLR, Y_test)\n",
    "\n",
    "print(\"LogReg: Percent correct: Train {:.3g} Test {:.3g}\".format(LogReg_train,\n",
    "                                                                 LogReg_acc))\n",
    "df = df._append({'Model': 'LogReg', 'Training Acc': LogReg_train, 'Testing Acc': LogReg_acc}, ignore_index=True)\n"
   ]
  },
  {
   "cell_type": "code",
   "execution_count": 20,
   "metadata": {},
   "outputs": [
    {
     "data": {
      "text/html": [
       "<div>\n",
       "<style scoped>\n",
       "    .dataframe tbody tr th:only-of-type {\n",
       "        vertical-align: middle;\n",
       "    }\n",
       "\n",
       "    .dataframe tbody tr th {\n",
       "        vertical-align: top;\n",
       "    }\n",
       "\n",
       "    .dataframe thead th {\n",
       "        text-align: right;\n",
       "    }\n",
       "</style>\n",
       "<table border=\"1\" class=\"dataframe\">\n",
       "  <thead>\n",
       "    <tr style=\"text-align: right;\">\n",
       "      <th></th>\n",
       "      <th>Model</th>\n",
       "      <th>Training Acc</th>\n",
       "      <th>Testing Acc</th>\n",
       "    </tr>\n",
       "  </thead>\n",
       "  <tbody>\n",
       "    <tr>\n",
       "      <th>0</th>\n",
       "      <td>Translation Distance</td>\n",
       "      <td>0.910300</td>\n",
       "      <td>0.900670</td>\n",
       "    </tr>\n",
       "    <tr>\n",
       "      <th>1</th>\n",
       "      <td>Logistic Regression</td>\n",
       "      <td>0.918700</td>\n",
       "      <td>0.919050</td>\n",
       "    </tr>\n",
       "    <tr>\n",
       "      <th>2</th>\n",
       "      <td>SVM Poly Kernel</td>\n",
       "      <td>0.905233</td>\n",
       "      <td>0.912943</td>\n",
       "    </tr>\n",
       "    <tr>\n",
       "      <th>3</th>\n",
       "      <td>SVM RBF Kernel</td>\n",
       "      <td>0.914200</td>\n",
       "      <td>0.916498</td>\n",
       "    </tr>\n",
       "    <tr>\n",
       "      <th>4</th>\n",
       "      <td>SVM Linear Kernel</td>\n",
       "      <td>0.914000</td>\n",
       "      <td>0.917077</td>\n",
       "    </tr>\n",
       "    <tr>\n",
       "      <th>5</th>\n",
       "      <td>LogReg</td>\n",
       "      <td>91.923333</td>\n",
       "      <td>91.961681</td>\n",
       "    </tr>\n",
       "  </tbody>\n",
       "</table>\n",
       "</div>"
      ],
      "text/plain": [
       "                  Model  Training Acc  Testing Acc\n",
       "0  Translation Distance      0.910300     0.900670\n",
       "1   Logistic Regression      0.918700     0.919050\n",
       "2       SVM Poly Kernel      0.905233     0.912943\n",
       "3        SVM RBF Kernel      0.914200     0.916498\n",
       "4     SVM Linear Kernel      0.914000     0.917077\n",
       "5                LogReg     91.923333    91.961681"
      ]
     },
     "execution_count": 20,
     "metadata": {},
     "output_type": "execute_result"
    }
   ],
   "source": [
    "df"
   ]
  },
  {
   "cell_type": "code",
   "execution_count": 22,
   "metadata": {},
   "outputs": [
    {
     "data": {
      "image/png": "[encoded data removed]",
      "text/plain": [
       "<Figure size 720x576 with 2 Axes>"
      ]
     },
     "metadata": {
      "needs_background": "light"
     },
     "output_type": "display_data"
    }
   ],
   "source": [
    "confusion_matrix6 = confusion_matrix(Y_test, predictedTestLR, labels=[0,1, 2, 3, 4, 5])\n",
    "\n",
    "# Calculate the sum of each row (the number of true samples for each class)\n",
    "row_sums = confusion_matrix6.sum(axis=1, keepdims=True)\n",
    "\n",
    "\n",
    "class_labels= ['BLA', 'EBO', 'LYT', 'NGS', 'PLM', 'PMO']\n",
    "\n",
    "\n",
    "# Normalize the confusion matrix by dividing each element by the sum of its row\n",
    "normalized_cm = confusion_matrix6 / row_sums\n",
    "\n",
    "# Plot normalized confusion matrix\n",
    "plt.figure(figsize=(10, 8))\n",
    "sns.heatmap(normalized_cm, annot=True, cmap='Blues', fmt='.2%', cbar=True, xticklabels=class_labels, yticklabels=class_labels)\n",
    "plt.xlabel('Predicted')\n",
    "plt.ylabel('True')\n",
    "plt.title('StarGAN: 6 Classes: Confusion Matrix')\n",
    "plt.show()\n"
   ]
  },
  {
   "cell_type": "code",
   "execution_count": null,
   "metadata": {},
   "outputs": [],
   "source": [
    "confusion_matrix3 = confusion_matrix(Y_test, min_x_test, labels=[0,1, 2])\n",
    "\n",
    "# Calculate the sum of each row (the number of true samples for each class)\n",
    "row_sums = confusion_matrix6.sum(axis=1, keepdims=True)\n",
    "\n",
    "\n",
    "class_labels= ['BLA', 'EBO', 'LYT']\n",
    "\n",
    "\n",
    "# Normalize the confusion matrix by dividing each element by the sum of its row\n",
    "normalized_cm = confusion_matrix6 / row_sums\n",
    "\n",
    "# Plot normalized confusion matrix\n",
    "plt.figure(figsize=(10, 8))\n",
    "sns.heatmap(normalized_cm, annot=True, cmap='Blues', fmt='.2%', cbar=True, xticklabels=class_labels, yticklabels=class_labels)\n",
    "plt.xlabel('Predicted')\n",
    "plt.ylabel('True')\n",
    "plt.title('StarGAN: 6 Classes: Confusion Matrix')\n",
    "plt.show()\n"
   ]
  },
  {
   "cell_type": "code",
   "execution_count": null,
   "metadata": {},
   "outputs": [],
   "source": [
    "import os\n",
    "import matplotlib.pyplot as plt\n",
    "from PIL import Image\n",
    "\n",
    "# Define the base directory\n",
    "base_dir = \"/home/mikylab/manuscript/stargan/experiments/stargan_identity.bel01/results/failure\"\n",
    "\n",
    "# Define the number of predictions\n",
    "num_predictions = 3\n",
    "# labels = [2121.6484, 5149.591, 4332.4634] # Blast 0\n",
    "# labels = [7982.1626, 2355.7979, 4306.5347] # Erythroblast 0\n",
    "# labels = [9034.805, 9468.055, 2446.6445] # Lymphocyte 0\n",
    "labels = [4878.8745, 7460.9326, 1972.0785]# Blast 1, failure \n",
    "\n",
    "labels = [25920.62, 7908.5737, 4821.923]\n",
    "# Load the real image\n",
    "real_image_path = base_dir + \"/class2_img0_real.jpg\"  # Replace with the actual path to the real image\n",
    "real_img = Image.open(real_image_path)\n",
    "\n",
    "# Create a figure with subplots\n",
    "fig, axes = plt.subplots(nrows=1, ncols=num_predictions+1, figsize=(16, 6))\n",
    "\n",
    "# Plot the real image in the first column\n",
    "axes[0].imshow(real_img)\n",
    "axes[0].set_title(\"Truth: Lymphoctye\\nCNN: Lymphoctye\\nImage2Image: Lymphoctye\",fontsize=22)\n",
    "axes[0].axis('off')\n",
    "mapping = {0: 'Blast', 1: 'Erythroblast', 2: 'Lymphoctye'}\n",
    "\n",
    "\n",
    "# Iterate over predictions\n",
    "for pred in range(num_predictions):\n",
    "    # Construct the predicted image path\n",
    "    predicted_image_path = os.path.join(base_dir, f\"class2_img1_pred{pred}.jpg\")\n",
    "\n",
    "    # Load predicted image\n",
    "    predicted_img = Image.open(predicted_image_path)\n",
    "\n",
    "    # Set title and label\n",
    "    title = f\"Translated: {mapping[pred]}\"\n",
    "\n",
    "    label = f\"Distance: {labels[pred]:,.0f}\"  # Format label with comma for thousands and two decimal places\n",
    "\n",
    "    # Plot the predicted image along with its title and label\n",
    "    ax = axes[pred + 1]  # Start from the second column\n",
    "    ax.imshow(predicted_img)\n",
    "    ax.set_title(f\"{title}\\n{label}\",fontsize=22)\n",
    "    ax.axis('off')\n",
    "\n",
    "# Adjust layout\n",
    "plt.tight_layout()\n",
    "plt.show()\n"
   ]
  }
 ],
 "metadata": {
  "kernelspec": {
   "display_name": "Python 3",
   "language": "python",
   "name": "python3"
  },
  "language_info": {
   "codemirror_mode": {
    "name": "ipython",
    "version": 3
   },
   "file_extension": ".py",
   "mimetype": "text/x-python",
   "name": "python",
   "nbconvert_exporter": "python",
   "pygments_lexer": "ipython3",
   "version": "3.8.10"
  }
 },
 "nbformat": 4,
 "nbformat_minor": 4
}
